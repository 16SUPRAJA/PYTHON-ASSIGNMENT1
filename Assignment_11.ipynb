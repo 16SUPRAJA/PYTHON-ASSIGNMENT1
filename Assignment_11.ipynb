{
 "cells": [
  {
   "cell_type": "markdown",
   "id": "8c8611ba",
   "metadata": {},
   "source": [
    "# 1. What is the role of the 'else' block in a try-except statement? Provide an example scenario where it would be useful."
   ]
  },
  {
   "cell_type": "markdown",
   "id": "467b234e",
   "metadata": {},
   "source": [
    "If no exceptions occur, the code in the else block is executed. The else block is useful for performing actions that should only occur if no exceptions have been raised, such as printing a success message or updating a database."
   ]
  },
  {
   "cell_type": "code",
   "execution_count": 1,
   "id": "843ae42b",
   "metadata": {},
   "outputs": [
    {
     "name": "stdout",
     "output_type": "stream",
     "text": [
      "first number:5\n",
      "second number:4\n",
      "1.25\n",
      "python rocks!!\n"
     ]
    }
   ],
   "source": [
    "try:\n",
    "    a=int(input(\"first number:\"))\n",
    "    b=int(input(\"second number:\"))\n",
    "    c=a/b\n",
    "    print(c)\n",
    "except:\n",
    "    print(\"dont use zero in denomitor\")\n",
    "else:\n",
    "    print(\"python rocks!!\")\n",
    "    "
   ]
  },
  {
   "cell_type": "markdown",
   "id": "e6e73de3",
   "metadata": {},
   "source": [
    "# 2. Can a try-except block be nested inside another try-except block? Explain with an example."
   ]
  },
  {
   "cell_type": "code",
   "execution_count": 8,
   "id": "b0115c7d",
   "metadata": {},
   "outputs": [
    {
     "name": "stdout",
     "output_type": "stream",
     "text": [
      "first number:5\n",
      "second number:j\n",
      "invalid literal for int() with base 10: 'j'\n"
     ]
    }
   ],
   "source": [
    "try:\n",
    "    a=int(input(\"first number:\"))\n",
    "    b=int(input(\"second number:\"))\n",
    "    d=a+b\n",
    "    print(\"addition: \",d)\n",
    "    try:\n",
    "        c=a/b\n",
    "        print(\"Division: \",c)\n",
    "    except ZeroDivisionError as f:\n",
    "        print(f)\n",
    "except Exception as e:\n",
    "    print(e)\n"
   ]
  },
  {
   "cell_type": "markdown",
   "id": "27d26928",
   "metadata": {},
   "source": [
    "# 3. How can you create a custom exception class in Python? Provide an example that demonstrates its usage."
   ]
  },
  {
   "cell_type": "code",
   "execution_count": 9,
   "id": "45dfeb48",
   "metadata": {},
   "outputs": [
    {
     "name": "stdout",
     "output_type": "stream",
     "text": [
      "first number:4\n",
      "second number:-5\n",
      "negative number not allowed \n",
      "first number:4\n",
      "second number:7\n",
      "div:  0.5714285714285714\n"
     ]
    }
   ],
   "source": [
    "class NegativeNumberException(Exception):\n",
    "    pass\n",
    "\n",
    "while True:\n",
    "    try:\n",
    "        a=int(input(\"first number:\") )\n",
    "        b=int(input(\"second number:\"))\n",
    "        if a<0 or b<0: \n",
    "            raise NegativeNumberException(\"negative number not allowed \")  \n",
    "        c=a/b\n",
    "        print(\"div: \", c)\n",
    "        break\n",
    "    except ValueError:\n",
    "        print(\"please enter integer only\")\n",
    "    except ZeroDivisionError:\n",
    "        print(\"please enter nonzero denominator\")\n",
    "    except NegativeNumberException as e:    \n",
    "        print(e)"
   ]
  },
  {
   "cell_type": "markdown",
   "id": "14b52bae",
   "metadata": {},
   "source": [
    "# 4. What are some common exceptions that are built-in to Python?"
   ]
  },
  {
   "cell_type": "markdown",
   "id": "6b3fae47",
   "metadata": {},
   "source": [
    "ZeroDivisionError\n",
    "ValueError\n",
    "TypeError\n",
    "IndentationError\n",
    "NameError\n",
    "IOError\n",
    "MemoryError\n",
    "NotImplementedError\n",
    "EOFError\n",
    "FloatingPointError\n",
    "ArithmeticError\n",
    "AssertionError\n",
    "OverflowError\n",
    "SystemError\n"
   ]
  },
  {
   "cell_type": "markdown",
   "id": "fbcf0d29",
   "metadata": {},
   "source": [
    "# 5. What is logging in Python, and why is it important in software development?"
   ]
  },
  {
   "cell_type": "markdown",
   "id": "d3439a3b",
   "metadata": {},
   "source": [
    "Logging is a way to store information about your script and track events that occur. When writing any complex script in Python, logging is essential for debugging software as you develop it. Without logging, finding the source of a problem in your code may be extremely time consuming.\n",
    "    Instead print statement we use logging as printing can help debug simpler scripts, but as your code gets more and more complex, printing lacks the flexibility and robustness that logging has.\n",
    "    With logging, you can pinpoint where a logging call came from, differentiate severity between messages, and write information to a file, which printing cannot do. For example, we can turn on and off the message from a particular module of a larger program. We can also increase or decrease the verbosity of the logging messages without changing a lot of code."
   ]
  },
  {
   "cell_type": "markdown",
   "id": "c60ee836",
   "metadata": {},
   "source": [
    "# 6. Explain the purpose of log levels in Python logging and provide examples of when each log level would be appropriate."
   ]
  },
  {
   "cell_type": "markdown",
   "id": "8824933d",
   "metadata": {},
   "source": [
    "There are 5 different logging levels that indicate the severity of the logs, shown in increasing severity:\n",
    "\n",
    "DEBUG\n",
    "INFO\n",
    "WARNING\n",
    "ERROR\n",
    "CRITICAL"
   ]
  },
  {
   "cell_type": "code",
   "execution_count": 10,
   "id": "af2ba871",
   "metadata": {},
   "outputs": [],
   "source": [
    "import logging\n",
    "\n",
    "logging.basicConfig(filename = 'file.log',\n",
    "                    level = logging.DEBUG,\n",
    "                    format = '%(asctime)s:%(levelname)s:%(name)s:%(message)s')\n",
    "\n",
    "logging.debug('Debug message')\n",
    "logging.info('Info message')\n",
    "logging.warning('Warning message')\n",
    "logging.error('Error message')\n",
    "logging.critical('Critical message')"
   ]
  },
  {
   "cell_type": "markdown",
   "id": "463e92d8",
   "metadata": {},
   "source": [
    "# 7. What are log formatters in Python logging, and how can you customise the log message format using formatters?"
   ]
  },
  {
   "cell_type": "markdown",
   "id": "c37d07e5",
   "metadata": {},
   "source": [
    "Loggers expose the interface that application code directly uses. Handlers send the log records (created by loggers) to the appropriate destination. Filters provide a finer grained facility for determining which log records to output. Formatters specify the layout of log records in the final output."
   ]
  },
  {
   "cell_type": "markdown",
   "id": "c35e9cf9",
   "metadata": {},
   "source": [
    "Loggers expose the interface that application code directly uses. Handlers send the log records (created by loggers) to the appropriate destination. Filters provide a finer grained facility for determining which log records to output. Formatters specify the layout of log records in the final output."
   ]
  },
  {
   "cell_type": "markdown",
   "id": "c7dabba1",
   "metadata": {},
   "source": [
    "class logging.Formatter(fmt=None, datefmt=None, style='%', validate=True, *, defaults=None)"
   ]
  },
  {
   "cell_type": "code",
   "execution_count": null,
   "id": "9947748e",
   "metadata": {},
   "outputs": [],
   "source": [
    "formatter = logging.Formatter('%(asctime)s:%(name)s:%(message)s')"
   ]
  },
  {
   "cell_type": "markdown",
   "id": "4760c34b",
   "metadata": {},
   "source": [
    "# 8. How can you set up logging to capture log messages from multiple modules or classes in a Python application?"
   ]
  },
  {
   "cell_type": "markdown",
   "id": "e6914b0b",
   "metadata": {},
   "source": [
    "By importing the particular module into the existing module with the help of file handler in which getlogger function we can get respective output to their module logs by specifying root name or __main__ in the log module."
   ]
  },
  {
   "cell_type": "code",
   "execution_count": null,
   "id": "2f6a83f4",
   "metadata": {},
   "outputs": [],
   "source": []
  },
  {
   "cell_type": "code",
   "execution_count": null,
   "id": "adb30c9b",
   "metadata": {},
   "outputs": [],
   "source": []
  },
  {
   "cell_type": "markdown",
   "id": "b98c2449",
   "metadata": {},
   "source": [
    "# 9. What is the difference between the logging and print statements in Python? When should you use logging over print statements in a real-world application?"
   ]
  },
  {
   "cell_type": "markdown",
   "id": "1f4f9566",
   "metadata": {},
   "source": [
    "logging Record events and errors that occur during the execution of Python programs.Mainly used in the production environment.Some features are: Log levels, filtering, formatting, and more.It provides different log levels such as Debug, Info, Error, Warning, and Critical."
   ]
  },
  {
   "cell_type": "code",
   "execution_count": 17,
   "id": "e1125b90",
   "metadata": {},
   "outputs": [],
   "source": [
    "import logging; \n",
    "logging.basicConfig(level=logging.INFO); \n",
    "logging.info('Hello')"
   ]
  },
  {
   "cell_type": "code",
   "execution_count": 1,
   "id": "0d70b91c",
   "metadata": {},
   "outputs": [
    {
     "name": "stdout",
     "output_type": "stream",
     "text": [
      "10\n"
     ]
    }
   ],
   "source": [
    "x=10\n",
    "print(x)"
   ]
  },
  {
   "cell_type": "markdown",
   "id": "a7d29efc",
   "metadata": {},
   "source": [
    "# 10. Write a Python program that logs a message to a file named \"app.log\" with the\n",
    "following requirements:\n",
    "● The log message should be \"Hello, World!\"\n",
    "● The log level should be set to \"INFO.\"\n",
    "● The log file should append new log entries without overwriting previous ones."
   ]
  },
  {
   "cell_type": "code",
   "execution_count": 6,
   "id": "1487134c",
   "metadata": {},
   "outputs": [
    {
     "data": {
      "text/plain": [
       "\"dir_path=r'C:\\\\Users\\\\hi\\\\Desktop\\\\class practise'\\nlog_file = 'app.log'\\nfull_path = os.path.join(dir_path, log_file)\\n\\n# Check if the directory exists and create it if necessary\\nos.makedirs(dir_path, exist_ok=True)\\n\\n# Try writing a test message to the file\\nwith open(full_path, 'a') as f:\\n    f.write('This is a test message\\n')\""
      ]
     },
     "execution_count": 6,
     "metadata": {},
     "output_type": "execute_result"
    }
   ],
   "source": [
    "import logging\n",
    "logging.basicConfig(filename=\"app.log\",level=logging.INFO,format = '{asctime} {name} {message}',style=\"{\",filemode='w')\n",
    "logging.info(\"Hello,World\")\n",
    "logging.info(\"hai\")\n"
   ]
  },
  {
   "cell_type": "code",
   "execution_count": 7,
   "id": "bae19c8b",
   "metadata": {},
   "outputs": [],
   "source": [
    "logging.info(\"hello\")"
   ]
  },
  {
   "cell_type": "code",
   "execution_count": 8,
   "id": "9b78f5b0",
   "metadata": {},
   "outputs": [],
   "source": [
    "logging.info(\"welcome\")"
   ]
  },
  {
   "cell_type": "markdown",
   "id": "325d1cec",
   "metadata": {},
   "source": [
    "# 11. Create a Python program that logs an error message to the console and a file named \"errors.log\" if an exception occurs during the program's execution. The error message should include the exception type and a timestamp."
   ]
  },
  {
   "cell_type": "code",
   "execution_count": null,
   "id": "986c40e7",
   "metadata": {},
   "outputs": [],
   "source": [
    "import logging\n",
    "import employee\n",
    "\n",
    "logger=logging.getLogger(__name__)\n",
    "\n",
    "logger.setLevel(logging.DEBUG)\n",
    "\n",
    "formatter = logging.Formatter('%(asctime)s:%(name)s:%(message)s')\n",
    "\n",
    "file_handler = logging.FileHandler('sample.log')\n",
    "\n",
    "file_handler.setLevel(logging.ERROR)\n",
    "\n",
    "file_handler.setFormatter(formatter)\n",
    "\n",
    "stream_handler=logging.StreamHandler()\n",
    "\n",
    "stream_handler.setFormatter(formatter)\n",
    "\n",
    "logger.addHandler(file_handler)\n",
    "\n",
    "logger.addHandler(stream_handler)  # for showing o/p in console\n",
    "\n",
    "\"\"\"logging.basicConfig(filename=\"sample.log\",level=logging.DEBUG,\n",
    "                   format='%(levelname)s:%(name)s:%(message)s')\"\"\"\n",
    "\n",
    "def Addition(x,y):\n",
    "    return x+y\n",
    "\n",
    "def Subtraction(x,y):\n",
    "    return x-y\n",
    "def Multiplication(x,y):\n",
    "    return x*y\n",
    "def Division(x,y):\n",
    "    try:\n",
    "        result=x/y\n",
    "    except ZeroDivisionError:\n",
    "        logger.exception(\"tried to divide by zero\")  # if we wnat to trace instesad write exception/error\n",
    "    else:\n",
    "        return result\n",
    "\n",
    "num1=10\n",
    "num2=0\n",
    "\n",
    "add_result=Addition(num1,num2)\n",
    "logger.debug(\"Add: {} + {} = {}\".format(num1,num2,add_result))\n",
    "\n",
    "sub_result=Subtraction(num1,num2)\n",
    "logger.debug(\"Sub: {} - {} = {}\".format(num1,num2,sub_result))\n",
    "\n",
    "mul_result=Multiplication(num1,num2)\n",
    "logger.debug(\"Multiply: {} * {} = {}\".format(num1,num2,mul_result))\n",
    "\n",
    "div_result=Division(num1,num2)\n",
    "logger.debug(\"Division: {} / {} = {}\".format(num1,num2,div_result))"
   ]
  }
 ],
 "metadata": {
  "kernelspec": {
   "display_name": "Python 3 (ipykernel)",
   "language": "python",
   "name": "python3"
  },
  "language_info": {
   "codemirror_mode": {
    "name": "ipython",
    "version": 3
   },
   "file_extension": ".py",
   "mimetype": "text/x-python",
   "name": "python",
   "nbconvert_exporter": "python",
   "pygments_lexer": "ipython3",
   "version": "3.11.4"
  }
 },
 "nbformat": 4,
 "nbformat_minor": 5
}
