{
 "cells": [
  {
   "cell_type": "markdown",
   "id": "7c5f564d",
   "metadata": {},
   "source": [
    "# 1. Create two int type variables, apply addition, subtraction, division and multiplications and store the results in variables. Then print the data in the following format by calling the variables:\n",
    "First variable is __ & second variable is __.\n",
    "Addition: __ + __ = __\n",
    "Subtraction: __ - __ = __\n",
    "Multiplication: __ * __ = __\n",
    "Division: __ / __ = __"
   ]
  },
  {
   "cell_type": "code",
   "execution_count": 8,
   "id": "050b28bf",
   "metadata": {},
   "outputs": [],
   "source": [
    "First_variable=90"
   ]
  },
  {
   "cell_type": "code",
   "execution_count": 9,
   "id": "1b336369",
   "metadata": {},
   "outputs": [],
   "source": [
    "second_variable=45"
   ]
  },
  {
   "cell_type": "code",
   "execution_count": 10,
   "id": "bf05fca7",
   "metadata": {},
   "outputs": [
    {
     "data": {
      "text/plain": [
       "135"
      ]
     },
     "execution_count": 10,
     "metadata": {},
     "output_type": "execute_result"
    }
   ],
   "source": [
    "First_variable + second_variable"
   ]
  },
  {
   "cell_type": "code",
   "execution_count": 11,
   "id": "f146ad38",
   "metadata": {},
   "outputs": [
    {
     "data": {
      "text/plain": [
       "45"
      ]
     },
     "execution_count": 11,
     "metadata": {},
     "output_type": "execute_result"
    }
   ],
   "source": [
    "First_variable - second_variable"
   ]
  },
  {
   "cell_type": "code",
   "execution_count": 12,
   "id": "88130343",
   "metadata": {},
   "outputs": [
    {
     "data": {
      "text/plain": [
       "4050"
      ]
     },
     "execution_count": 12,
     "metadata": {},
     "output_type": "execute_result"
    }
   ],
   "source": [
    "First_variable * second_variable"
   ]
  },
  {
   "cell_type": "code",
   "execution_count": 13,
   "id": "42f1bfa5",
   "metadata": {},
   "outputs": [
    {
     "data": {
      "text/plain": [
       "2.0"
      ]
     },
     "execution_count": 13,
     "metadata": {},
     "output_type": "execute_result"
    }
   ],
   "source": [
    "First_variable / second_variable"
   ]
  },
  {
   "cell_type": "markdown",
   "id": "54e23472",
   "metadata": {},
   "source": [
    "# Q.2. What is the difference between the following operators:\n",
    "(i) ‘/’ & ‘//’\n",
    "(ii) ‘**’ & ‘^’"
   ]
  },
  {
   "cell_type": "markdown",
   "id": "c407d363",
   "metadata": {},
   "source": [
    "Normal Division : Divides the value on the left by the one on the right. Notice that division results in a floating-point value.\n",
    "Floor Division  : Divides and gives integer value"
   ]
  },
  {
   "cell_type": "code",
   "execution_count": 8,
   "id": "3c587ce6",
   "metadata": {},
   "outputs": [
    {
     "data": {
      "text/plain": [
       "2.0"
      ]
     },
     "execution_count": 8,
     "metadata": {},
     "output_type": "execute_result"
    }
   ],
   "source": [
    "10/5"
   ]
  },
  {
   "cell_type": "code",
   "execution_count": 9,
   "id": "35d97965",
   "metadata": {},
   "outputs": [
    {
     "data": {
      "text/plain": [
       "2"
      ]
     },
     "execution_count": 9,
     "metadata": {},
     "output_type": "execute_result"
    }
   ],
   "source": [
    "10//5"
   ]
  },
  {
   "cell_type": "code",
   "execution_count": 10,
   "id": "04bc202a",
   "metadata": {},
   "outputs": [
    {
     "data": {
      "text/plain": [
       "6.25"
      ]
     },
     "execution_count": 10,
     "metadata": {},
     "output_type": "execute_result"
    }
   ],
   "source": [
    "25/4"
   ]
  },
  {
   "cell_type": "code",
   "execution_count": 11,
   "id": "30b5e4f6",
   "metadata": {},
   "outputs": [
    {
     "data": {
      "text/plain": [
       "6"
      ]
     },
     "execution_count": 11,
     "metadata": {},
     "output_type": "execute_result"
    }
   ],
   "source": [
    "25//4"
   ]
  },
  {
   "cell_type": "markdown",
   "id": "2f456ad3",
   "metadata": {},
   "source": [
    "# 3. List the logical operators."
   ]
  },
  {
   "cell_type": "markdown",
   "id": "83d52370",
   "metadata": {},
   "source": [
    "Logical Operators: Used to combine conditional statements.There are three types of logical operators: and, or, and not."
   ]
  },
  {
   "cell_type": "code",
   "execution_count": 12,
   "id": "3d2e69a5",
   "metadata": {},
   "outputs": [],
   "source": [
    "a = True\n",
    "b = False"
   ]
  },
  {
   "cell_type": "code",
   "execution_count": 13,
   "id": "b11d7c4d",
   "metadata": {},
   "outputs": [
    {
     "data": {
      "text/plain": [
       "False"
      ]
     },
     "execution_count": 13,
     "metadata": {},
     "output_type": "execute_result"
    }
   ],
   "source": [
    "a and b  # true only when both are true"
   ]
  },
  {
   "cell_type": "code",
   "execution_count": 14,
   "id": "bfd9a6e6",
   "metadata": {},
   "outputs": [
    {
     "data": {
      "text/plain": [
       "True"
      ]
     },
     "execution_count": 14,
     "metadata": {},
     "output_type": "execute_result"
    }
   ],
   "source": [
    "a or b   # true when any one is true"
   ]
  },
  {
   "cell_type": "code",
   "execution_count": 15,
   "id": "9cd738a4",
   "metadata": {},
   "outputs": [
    {
     "data": {
      "text/plain": [
       "False"
      ]
     },
     "execution_count": 15,
     "metadata": {},
     "output_type": "execute_result"
    }
   ],
   "source": [
    "not a    #  gives negation"
   ]
  },
  {
   "cell_type": "markdown",
   "id": "9cbcbe0c",
   "metadata": {},
   "source": [
    "# 4. Explain right shift operator and left shift operator with examples."
   ]
  },
  {
   "cell_type": "markdown",
   "id": "4b7c8cd0",
   "metadata": {},
   "source": [
    "Right Shift Operator >>: Shifts the bits of the number to the right by the number of bits specified. Each shift to the right corresponds to dividing the number by 2."
   ]
  },
  {
   "cell_type": "code",
   "execution_count": 16,
   "id": "dd7dd5ac",
   "metadata": {},
   "outputs": [
    {
     "data": {
      "text/plain": [
       "5"
      ]
     },
     "execution_count": 16,
     "metadata": {},
     "output_type": "execute_result"
    }
   ],
   "source": [
    "#Example 1:     #  Shifts the bits of the number to the right and fills 0 on voids left\n",
    "a = 10   #  0000 1010 =10(Binary)\n",
    "a >> 1   #  0000 0101 = 5"
   ]
  },
  {
   "cell_type": "markdown",
   "id": "eaa34185",
   "metadata": {},
   "source": [
    "Left Shift Operator <<: Shifts the bits of the number to the left by the number of bits specified. Each shift to the left corresponds to multiplying the number by 2."
   ]
  },
  {
   "cell_type": "code",
   "execution_count": 17,
   "id": "aa2446c6",
   "metadata": {},
   "outputs": [
    {
     "data": {
      "text/plain": [
       "40"
      ]
     },
     "execution_count": 17,
     "metadata": {},
     "output_type": "execute_result"
    }
   ],
   "source": [
    "a = 10           # in binary: 1010\n",
    "result = a << 2  # result is 40 (in binary: 101000)\n",
    "result"
   ]
  },
  {
   "cell_type": "markdown",
   "id": "c907d072",
   "metadata": {},
   "source": [
    "# 5. Create a list containing int type data of length 15. Then write a code to check if 10 is present in the list or not."
   ]
  },
  {
   "cell_type": "code",
   "execution_count": 19,
   "id": "6382d285",
   "metadata": {},
   "outputs": [],
   "source": [
    "l=[4,10,1,2,5,4,3,6,7,8,9,87,3,7,10]"
   ]
  },
  {
   "cell_type": "code",
   "execution_count": 20,
   "id": "8e93f55d",
   "metadata": {},
   "outputs": [
    {
     "data": {
      "text/plain": [
       "15"
      ]
     },
     "execution_count": 20,
     "metadata": {},
     "output_type": "execute_result"
    }
   ],
   "source": [
    "len(l)"
   ]
  },
  {
   "cell_type": "code",
   "execution_count": 28,
   "id": "8d2f4318",
   "metadata": {},
   "outputs": [
    {
     "name": "stdout",
     "output_type": "stream",
     "text": [
      "10 is in the list at :  1\n",
      "10 is in the list at :  14\n"
     ]
    }
   ],
   "source": [
    "ten=10\n",
    "if ten in l:\n",
    "    for i in range(len(l)):\n",
    "        if l[i]==10:\n",
    "            print(\"10 is in the list at : \",i)\n",
    "else:\n",
    "    print(\"10 is not in the list l\")"
   ]
  }
 ],
 "metadata": {
  "kernelspec": {
   "display_name": "Python 3 (ipykernel)",
   "language": "python",
   "name": "python3"
  },
  "language_info": {
   "codemirror_mode": {
    "name": "ipython",
    "version": 3
   },
   "file_extension": ".py",
   "mimetype": "text/x-python",
   "name": "python",
   "nbconvert_exporter": "python",
   "pygments_lexer": "ipython3",
   "version": "3.11.4"
  }
 },
 "nbformat": 4,
 "nbformat_minor": 5
}
