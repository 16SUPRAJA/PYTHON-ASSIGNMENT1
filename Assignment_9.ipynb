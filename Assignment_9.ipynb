{
 "cells": [
  {
   "cell_type": "markdown",
   "id": "23bad847",
   "metadata": {},
   "source": [
    "# What is a lambda function in Python, and how does it differ from a regular function?"
   ]
  },
  {
   "cell_type": "markdown",
   "id": "a0ff08d3",
   "metadata": {},
   "source": [
    "Lambda function is a oneline function used to calculate abrupt calculations.Lambda functions automatically return the result of the expression they evaluate, while regular functions defined with def require an explicit return statement to return a value and can be written in multile line of code.\n",
    "    Lambda functions donot have name where as regular functions have.Both types of functions can take any number of arguments, but lambda functions are typically used for simple, one-line expressions with one or two arguments.\n",
    "        Regular functions defined with def can include complex logic, including flow control statements (such as if and while), error handling, and more complex calculations. Lambda functions are typically used for simple operations, such as filtering, mapping, or reducing data."
   ]
  },
  {
   "cell_type": "code",
   "execution_count": 1,
   "id": "b34128f4",
   "metadata": {},
   "outputs": [],
   "source": [
    "# Lambda function that adds two numbers \n",
    "add = lambda x, y: x + y"
   ]
  },
  {
   "cell_type": "code",
   "execution_count": 2,
   "id": "6baf6964",
   "metadata": {},
   "outputs": [
    {
     "data": {
      "text/plain": [
       "7"
      ]
     },
     "execution_count": 2,
     "metadata": {},
     "output_type": "execute_result"
    }
   ],
   "source": [
    "add(2,5)"
   ]
  },
  {
   "cell_type": "code",
   "execution_count": 8,
   "id": "8826df0b",
   "metadata": {},
   "outputs": [],
   "source": [
    "# Regular function that adds two numbers \n",
    "def adi(x, y):\n",
    "    return x + y"
   ]
  },
  {
   "cell_type": "code",
   "execution_count": 9,
   "id": "7c21c4d7",
   "metadata": {},
   "outputs": [
    {
     "data": {
      "text/plain": [
       "7"
      ]
     },
     "execution_count": 9,
     "metadata": {},
     "output_type": "execute_result"
    }
   ],
   "source": [
    "adi(2,5)"
   ]
  },
  {
   "cell_type": "markdown",
   "id": "ee7e3ad2",
   "metadata": {},
   "source": [
    "# 2. Can a lambda function in Python have multiple arguments? If yes, how can you define and use them?"
   ]
  },
  {
   "cell_type": "markdown",
   "id": "a25e5afa",
   "metadata": {},
   "source": [
    "Lambda function can have multile arguments but typically used for simple, one-line expressions with one or two arguments.Lambda function can take any number of arguments but gives only one value in form of expression.They cannot contain commands or multilpe expression.an anonymus function cannot be a direct call to print because lambda requires an expression."
   ]
  },
  {
   "cell_type": "code",
   "execution_count": 10,
   "id": "5b9983fd",
   "metadata": {},
   "outputs": [
    {
     "data": {
      "text/plain": [
       "16"
      ]
     },
     "execution_count": 10,
     "metadata": {},
     "output_type": "execute_result"
    }
   ],
   "source": [
    "# Lambda example with single argument\n",
    "square = lambda x: x * x\n",
    "square(4)"
   ]
  },
  {
   "cell_type": "code",
   "execution_count": 11,
   "id": "275d68df",
   "metadata": {},
   "outputs": [
    {
     "data": {
      "text/plain": [
       "30"
      ]
     },
     "execution_count": 11,
     "metadata": {},
     "output_type": "execute_result"
    }
   ],
   "source": [
    "# Lambda example with two arguments\n",
    "add = lambda x, y : x + y\n",
    "add(10, 20)  \n"
   ]
  },
  {
   "cell_type": "code",
   "execution_count": 12,
   "id": "52865ec3",
   "metadata": {},
   "outputs": [
    {
     "data": {
      "text/plain": [
       "30"
      ]
     },
     "execution_count": 12,
     "metadata": {},
     "output_type": "execute_result"
    }
   ],
   "source": [
    "result = (lambda x, y : x + y)(10,20)\n",
    "result"
   ]
  },
  {
   "cell_type": "markdown",
   "id": "13d3bbd9",
   "metadata": {},
   "source": [
    "Let’s create a lambda function with multiple arguments, and take the values for these arguments from the list, To pass values to these arguments you need to use two iterables.Here, the python lambda takes multiple arguments x, y and adds their values. The map() function applies this lambda function to each item of the numbers1 & numbers2 lists, and the result is a new iterator containing the sum of both numbers element-wise."
   ]
  },
  {
   "cell_type": "code",
   "execution_count": 13,
   "id": "b5100afb",
   "metadata": {},
   "outputs": [
    {
     "data": {
      "text/plain": [
       "[3, 7, 7, 8, 7]"
      ]
     },
     "execution_count": 13,
     "metadata": {},
     "output_type": "execute_result"
    }
   ],
   "source": [
    "# Create two lists with numbers \n",
    "numbers1 = [2, 4, 5, 6, 3]\n",
    "numbers2 = [1, 3, 2, 2, 4]\n",
    "\n",
    "# Create lambda function that takes two arguments\n",
    "add_fun = lambda x, y: x+y\n",
    "\n",
    "#Use lambda with map() function\n",
    "add_result = list(map(add_fun, numbers1, numbers2))\n",
    "add_result \n"
   ]
  },
  {
   "cell_type": "markdown",
   "id": "90940c3b",
   "metadata": {},
   "source": [
    "# 3. How are lambda functions typically used in Python? Provide an example use case."
   ]
  },
  {
   "cell_type": "markdown",
   "id": "850d9593",
   "metadata": {},
   "source": [
    "Lambda functions are frequently used with higher-order functions, which take one or more functions as arguments or return one or more functions. Python exposes higher-order functions as built-in functions or in the standard library. Examples include map() , filter() , functools.\n",
    "    We use the lambda function to create simple expressions. For example, expressions that do not include complex structures such as if-else, for-loops, and so on. So, for example, if you want to create a function with a for-loop, you should use a user-defined function."
   ]
  },
  {
   "cell_type": "code",
   "execution_count": 14,
   "id": "c3f878c1",
   "metadata": {},
   "outputs": [
    {
     "data": {
      "text/plain": [
       "<filter at 0x1a312b28970>"
      ]
     },
     "execution_count": 14,
     "metadata": {},
     "output_type": "execute_result"
    }
   ],
   "source": [
    "list1 = [1, 2, 3, 4, 5, 6, 7, 8, 9, 10]\n",
    "filter(lambda x: x % 2 == 0, list1)\n"
   ]
  },
  {
   "cell_type": "code",
   "execution_count": 15,
   "id": "41155c2f",
   "metadata": {},
   "outputs": [
    {
     "data": {
      "text/plain": [
       "[2, 4, 6, 8, 10]"
      ]
     },
     "execution_count": 15,
     "metadata": {},
     "output_type": "execute_result"
    }
   ],
   "source": [
    "list(filter(lambda x: x % 2 == 0, list1))"
   ]
  },
  {
   "cell_type": "markdown",
   "id": "e8715a03",
   "metadata": {},
   "source": [
    "# 4. What are the advantages and limitations of lambda functions compared to regular functions in Python?"
   ]
  },
  {
   "cell_type": "markdown",
   "id": "012f60b5",
   "metadata": {},
   "source": [
    "They can be immediately passed around (no variable needed)\n",
    "They can only have a single line of code within them\n",
    "They return automatically\n",
    "They can’t have a docstring and they don’t have a name\n",
    "They use a different and unfamiliar syntax\n",
    "Lambda expressions can only contain one statement, so some readable language features, such as tuple unpacking, cannot be used with them.\n",
    "Lambda functions can often be replaced with existing functions in the standard library or Python built-in functions.\n",
    "Sometimes the issue is that lambda expressions are being misused, meaning they’re used in a way that is nearly always unideal. Other times lambda expressions are simply being overused,betyter write in another way"
   ]
  },
  {
   "cell_type": "markdown",
   "id": "a41abc43",
   "metadata": {},
   "source": [
    "# 5. Are lambda functions in Python able to access variables defined outside of their own scope? Explain with an example."
   ]
  },
  {
   "cell_type": "markdown",
   "id": "d93d7f51",
   "metadata": {},
   "source": [
    "Lambda functions have their own local namespace and cannot access variables other than those in their parameter list and those in the global namespace."
   ]
  },
  {
   "cell_type": "code",
   "execution_count": 16,
   "id": "be6359ae",
   "metadata": {},
   "outputs": [],
   "source": [
    "a= lambda x:x**2"
   ]
  },
  {
   "cell_type": "code",
   "execution_count": 17,
   "id": "49126856",
   "metadata": {},
   "outputs": [
    {
     "data": {
      "text/plain": [
       "4"
      ]
     },
     "execution_count": 17,
     "metadata": {},
     "output_type": "execute_result"
    }
   ],
   "source": [
    "a(2)"
   ]
  },
  {
   "cell_type": "code",
   "execution_count": 23,
   "id": "d7bda7bd",
   "metadata": {},
   "outputs": [],
   "source": [
    "x=4\n",
    "a=lambda x:x**2"
   ]
  },
  {
   "cell_type": "code",
   "execution_count": 24,
   "id": "fb68e583",
   "metadata": {},
   "outputs": [
    {
     "data": {
      "text/plain": [
       "16"
      ]
     },
     "execution_count": 24,
     "metadata": {},
     "output_type": "execute_result"
    }
   ],
   "source": [
    "a(x)"
   ]
  },
  {
   "cell_type": "markdown",
   "id": "c3a1b863",
   "metadata": {},
   "source": [
    "# 6. Write a lambda function to calculate the square of a given number."
   ]
  },
  {
   "cell_type": "code",
   "execution_count": 25,
   "id": "058e6f37",
   "metadata": {},
   "outputs": [],
   "source": [
    "a= lambda x:x**2"
   ]
  },
  {
   "cell_type": "code",
   "execution_count": 26,
   "id": "be2a898e",
   "metadata": {},
   "outputs": [
    {
     "data": {
      "text/plain": [
       "1600"
      ]
     },
     "execution_count": 26,
     "metadata": {},
     "output_type": "execute_result"
    }
   ],
   "source": [
    "a(40)"
   ]
  },
  {
   "cell_type": "markdown",
   "id": "87caaaa8",
   "metadata": {},
   "source": [
    "# 7. Create a lambda function to find the maximum value in a list of integers."
   ]
  },
  {
   "cell_type": "code",
   "execution_count": 43,
   "id": "a3c795e4",
   "metadata": {},
   "outputs": [],
   "source": [
    "listt=[1,2,3,4,5,6]\n",
    "a= lambda maxi:max(maxi)"
   ]
  },
  {
   "cell_type": "code",
   "execution_count": 44,
   "id": "58d6fdfd",
   "metadata": {},
   "outputs": [
    {
     "data": {
      "text/plain": [
       "6"
      ]
     },
     "execution_count": 44,
     "metadata": {},
     "output_type": "execute_result"
    }
   ],
   "source": [
    "a(listt)"
   ]
  },
  {
   "cell_type": "code",
   "execution_count": 45,
   "id": "127fbe4f",
   "metadata": {},
   "outputs": [],
   "source": [
    "b=[7,8,9,4,5]"
   ]
  },
  {
   "cell_type": "code",
   "execution_count": 46,
   "id": "c1de4a14",
   "metadata": {},
   "outputs": [
    {
     "data": {
      "text/plain": [
       "9"
      ]
     },
     "execution_count": 46,
     "metadata": {},
     "output_type": "execute_result"
    }
   ],
   "source": [
    "a(b)"
   ]
  },
  {
   "cell_type": "markdown",
   "id": "7f3995f4",
   "metadata": {},
   "source": [
    "# 8. Implement a lambda function to filter out all the even numbers from a list of integers."
   ]
  },
  {
   "cell_type": "code",
   "execution_count": 50,
   "id": "4634d06d",
   "metadata": {},
   "outputs": [
    {
     "data": {
      "text/plain": [
       "(2, 4, 6, 8, 10)"
      ]
     },
     "execution_count": 50,
     "metadata": {},
     "output_type": "execute_result"
    }
   ],
   "source": [
    "list1 = [1, 2, 3, 4, 5, 6, 7, 8, 9, 10]\n",
    "tuple(filter(lambda x: x % 2 == 0, list1))"
   ]
  },
  {
   "cell_type": "markdown",
   "id": "02e40886",
   "metadata": {},
   "source": [
    "# 9. Write a lambda function to sort a list of strings in ascending order based on the length of each string."
   ]
  },
  {
   "cell_type": "code",
   "execution_count": 51,
   "id": "059bc889",
   "metadata": {},
   "outputs": [],
   "source": [
    "\n",
    "myList = [\"rohan\", \"amy\", \"sapna\", \"muhammad\", \"aakash\", \"raunak\", \"chinmoy\"]\n",
    " \n",
    "sortedList = sorted(myList, key=lambda x: len(x))\n",
    " "
   ]
  },
  {
   "cell_type": "code",
   "execution_count": 52,
   "id": "52871e31",
   "metadata": {},
   "outputs": [
    {
     "data": {
      "text/plain": [
       "['amy', 'rohan', 'sapna', 'aakash', 'raunak', 'chinmoy', 'muhammad']"
      ]
     },
     "execution_count": 52,
     "metadata": {},
     "output_type": "execute_result"
    }
   ],
   "source": [
    "sortedList"
   ]
  },
  {
   "cell_type": "markdown",
   "id": "e3d3659d",
   "metadata": {},
   "source": [
    "# 10. Create a lambda function that takes two lists as input and returns a new list containing the common elements between the two lists."
   ]
  },
  {
   "cell_type": "code",
   "execution_count": 71,
   "id": "77246083",
   "metadata": {},
   "outputs": [],
   "source": [
    "a=[1,4,7,8,5,2]\n",
    "b=[1,2,3,4,5,6]"
   ]
  },
  {
   "cell_type": "code",
   "execution_count": 88,
   "id": "2679cf90",
   "metadata": {},
   "outputs": [],
   "source": [
    "z=lambda a=,b:list(set(a)&set(b))\n",
    "q=z(a,b)\n",
    "x=list(q)"
   ]
  },
  {
   "cell_type": "code",
   "execution_count": 85,
   "id": "1e7990a9",
   "metadata": {},
   "outputs": [
    {
     "data": {
      "text/plain": [
       "[1, 2, 4, 5]"
      ]
     },
     "execution_count": 85,
     "metadata": {},
     "output_type": "execute_result"
    }
   ],
   "source": [
    "x"
   ]
  },
  {
   "cell_type": "code",
   "execution_count": 93,
   "id": "e72a8076",
   "metadata": {},
   "outputs": [],
   "source": [
    "p=(4,5,7,8,9,6)\n",
    "w=(7,8,9,4,5,6,5)"
   ]
  },
  {
   "cell_type": "code",
   "execution_count": 94,
   "id": "4cce48f6",
   "metadata": {},
   "outputs": [
    {
     "data": {
      "text/plain": [
       "[4, 5, 6, 7, 8, 9]"
      ]
     },
     "execution_count": 94,
     "metadata": {},
     "output_type": "execute_result"
    }
   ],
   "source": [
    "z(p,w)"
   ]
  },
  {
   "cell_type": "markdown",
   "id": "0fa8b736",
   "metadata": {},
   "source": [
    "# 11. Write a recursive function to calculate the factorial of a given positive integer."
   ]
  },
  {
   "cell_type": "code",
   "execution_count": 95,
   "id": "47952fec",
   "metadata": {},
   "outputs": [],
   "source": [
    "def fact(n):\n",
    "    if n==1:\n",
    "        return n\n",
    "    else:\n",
    "        return n * fact(n-1) "
   ]
  },
  {
   "cell_type": "code",
   "execution_count": 96,
   "id": "74c907ff",
   "metadata": {},
   "outputs": [
    {
     "data": {
      "text/plain": [
       "120"
      ]
     },
     "execution_count": 96,
     "metadata": {},
     "output_type": "execute_result"
    }
   ],
   "source": [
    "fact(5)"
   ]
  },
  {
   "cell_type": "markdown",
   "id": "5041b5a8",
   "metadata": {},
   "source": [
    "# 12. Implement a recursive function to compute the nth Fibonacci number."
   ]
  },
  {
   "cell_type": "code",
   "execution_count": 1,
   "id": "6badd2c4",
   "metadata": {},
   "outputs": [],
   "source": [
    "def fib_no(n):\n",
    "    if n<=0:\n",
    "        return []\n",
    "    elif n==1:\n",
    "        return [0]\n",
    "    elif n==2:\n",
    "        return [0,1]\n",
    "    else:\n",
    "        fib_series=fib_no(n-1)\n",
    "        fib_series.append(fib_series[-1]+fib_series[-2])\n",
    "        return fib_series\n"
   ]
  },
  {
   "cell_type": "code",
   "execution_count": 3,
   "id": "4bcd361f",
   "metadata": {},
   "outputs": [
    {
     "data": {
      "text/plain": [
       "[0, 1, 1, 2, 3]"
      ]
     },
     "execution_count": 3,
     "metadata": {},
     "output_type": "execute_result"
    }
   ],
   "source": [
    "fib_no(5)"
   ]
  },
  {
   "cell_type": "markdown",
   "id": "9549e6b3",
   "metadata": {},
   "source": [
    "# 13. Create a recursive function to find the sum of all the elements in a given list."
   ]
  },
  {
   "cell_type": "code",
   "execution_count": 1,
   "id": "4d9ca70c",
   "metadata": {},
   "outputs": [],
   "source": [
    "def findSum(list1): \n",
    "     if len(list1)== 1: \n",
    "        return list1[0] \n",
    "     else: \n",
    "        return list1[0]+findSum(list1[1:]) \n",
    "\"\"\"12+findSum([34,67,8,91])\n",
    "\n",
    "12+34+findSum([67,8,91])\n",
    "\n",
    "12+34+67+findSum([8,91])\n",
    "\n",
    "12+34+67+8+findSum([91])\n",
    "12+34+67+8+91\"\"\""
   ]
  },
  {
   "cell_type": "code",
   "execution_count": 10,
   "id": "453a6991",
   "metadata": {},
   "outputs": [
    {
     "data": {
      "text/plain": [
       "212"
      ]
     },
     "execution_count": 10,
     "metadata": {},
     "output_type": "execute_result"
    }
   ],
   "source": [
    "list12 = [12,34,67,8,91]\n",
    "findSum(list12)"
   ]
  },
  {
   "cell_type": "markdown",
   "id": "a3d30a09",
   "metadata": {},
   "source": [
    "# 14. Write a recursive function to determine whether a given string is a palindrome."
   ]
  },
  {
   "cell_type": "code",
   "execution_count": 22,
   "id": "e763ef1f",
   "metadata": {},
   "outputs": [
    {
     "name": "stdout",
     "output_type": "stream",
     "text": [
      "Enter your string: lkh\n",
      "lkh is not palindrome\n"
     ]
    }
   ],
   "source": [
    "def is_palindrome(l,r,S):\n",
    "    if l>=r:\n",
    "        return True\n",
    "    if S[l] != S[r]:\n",
    "        return False\n",
    "    return is_palindrome(l+1,r-1,S)\n",
    "\n",
    "my_string = input('Enter your string: ')\n",
    "l = 0\n",
    "r = len(my_string)-1\n",
    "\n",
    "check = is_palindrome(l,r,my_string)\n",
    "\n",
    "if check:\n",
    "    print(f\"{my_string} is palindrome\")\n",
    "else:\n",
    "    print(f\"{my_string} is not palindrome\")"
   ]
  },
  {
   "cell_type": "markdown",
   "id": "d73eef08",
   "metadata": {},
   "source": [
    "# 15. Implement a recursive function to find the greatest common divisor (GCD) of two positive integers."
   ]
  },
  {
   "cell_type": "code",
   "execution_count": 7,
   "id": "a38e65c6",
   "metadata": {},
   "outputs": [],
   "source": [
    "def gcd(a, b):\n",
    "    if a == b:\n",
    "        return a\n",
    "    elif a < b:\n",
    "        return gcd(b, a)\n",
    "    else:\n",
    "        return gcd(b, a - b)\n"
   ]
  },
  {
   "cell_type": "code",
   "execution_count": 8,
   "id": "0df9a9e5",
   "metadata": {},
   "outputs": [
    {
     "data": {
      "text/plain": [
       "5"
      ]
     },
     "execution_count": 8,
     "metadata": {},
     "output_type": "execute_result"
    }
   ],
   "source": [
    "gcd(5,5)"
   ]
  },
  {
   "cell_type": "code",
   "execution_count": 4,
   "id": "ed4987b6",
   "metadata": {},
   "outputs": [
    {
     "data": {
      "text/plain": [
       "5"
      ]
     },
     "execution_count": 4,
     "metadata": {},
     "output_type": "execute_result"
    }
   ],
   "source": [
    "gcd(5,10)"
   ]
  },
  {
   "cell_type": "code",
   "execution_count": 6,
   "id": "76c55426",
   "metadata": {},
   "outputs": [
    {
     "data": {
      "text/plain": [
       "5"
      ]
     },
     "execution_count": 6,
     "metadata": {},
     "output_type": "execute_result"
    }
   ],
   "source": [
    "gcd(10,5)"
   ]
  },
  {
   "cell_type": "code",
   "execution_count": null,
   "id": "6314e388",
   "metadata": {},
   "outputs": [],
   "source": []
  }
 ],
 "metadata": {
  "kernelspec": {
   "display_name": "Python 3 (ipykernel)",
   "language": "python",
   "name": "python3"
  },
  "language_info": {
   "codemirror_mode": {
    "name": "ipython",
    "version": 3
   },
   "file_extension": ".py",
   "mimetype": "text/x-python",
   "name": "python",
   "nbconvert_exporter": "python",
   "pygments_lexer": "ipython3",
   "version": "3.11.4"
  }
 },
 "nbformat": 4,
 "nbformat_minor": 5
}
