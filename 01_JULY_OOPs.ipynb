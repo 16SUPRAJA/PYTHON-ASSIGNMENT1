{
 "cells": [
  {
   "cell_type": "markdown",
   "id": "fd768b71",
   "metadata": {},
   "source": [
    "# 1. What is the primary goal of Object-Oriented Programming (OOP)?"
   ]
  },
  {
   "cell_type": "markdown",
   "id": "3874d558",
   "metadata": {},
   "source": [
    "    To hold entire data into a single object such that it would be easy to pass this to other methods and objects.Object-oriented programming (OOP) is a way of thinking about and organizing code for maximum reusability.\n",
    "    OOP is based on the idea of classes and objects. It organizes a computer program into basic, reusable blueprints of code or “classes.” These classes are then used and reused to create new and unique objects with similar functions."
   ]
  },
  {
   "cell_type": "markdown",
   "id": "ebe49f81",
   "metadata": {},
   "source": [
    "# 2. What is an object in Python?"
   ]
  },
  {
   "cell_type": "markdown",
   "id": "7933ce55",
   "metadata": {},
   "source": [
    "Objects are Python's abstraction for data. Objects are variables that contain data and functions that can be used to manipulate the data. The object's data can vary in type (string, integer, etc.) depending on how it's been defined. An object is like a mini-program inside python, with its own set of rules and behaviors."
   ]
  },
  {
   "cell_type": "markdown",
   "id": "95822277",
   "metadata": {},
   "source": [
    "# 3. What is a class in Python?"
   ]
  },
  {
   "cell_type": "markdown",
   "id": "85d7ce84",
   "metadata": {},
   "source": [
    "Classes provide a means of bundling data and functionality together. Creating a new class creates a new type of object, allowing new instances of that type to be made. Each class instance can have attributes attached to it for maintaining its state.\n",
    "    A Class is like an object constructor, or a \"blueprint\" for creating objects.Where as objects are entities."
   ]
  },
  {
   "cell_type": "markdown",
   "id": "7a0dd4ef",
   "metadata": {},
   "source": [
    "# 4. What are attributes and methods in a class?"
   ]
  },
  {
   "cell_type": "markdown",
   "id": "bf7740eb",
   "metadata": {},
   "source": [
    "Any variable that is bound in a class is a class attribute . Any function defined within a class is a method . Methods receive an instance of the class, conventionally called self , as the first argument."
   ]
  },
  {
   "cell_type": "code",
   "execution_count": 7,
   "id": "6eb2ee63",
   "metadata": {},
   "outputs": [],
   "source": [
    "class MyClass:\n",
    "    attr1 = 10        #class attributes\n",
    "    attr2 = \"hello\"\n",
    "\n",
    "    def method1(self):\n",
    "        print(MyClass.attr1)   #reference the class attribute\n",
    "\n",
    "    def method2(self):\n",
    "        print(MyClass.attr2)   #reference the class attribute\n",
    "\n",
    "    def method3(self, text):\n",
    "        self.text = text        #instance attribute\n",
    "        print(text, self.text)   #print my argument and my attribute\n",
    "\n",
    "    method4 = method3   #make an alias for method3"
   ]
  },
  {
   "cell_type": "markdown",
   "id": "f1f25d54",
   "metadata": {},
   "source": [
    "# 5. What is the difference between class variables and instance variables in Python?"
   ]
  },
  {
   "cell_type": "markdown",
   "id": "8d0bcef4",
   "metadata": {},
   "source": [
    "An instance attribute is a Python variable belonging to one, and only one, object. This variable is only accessible in the scope of this object, and it’s defined inside the constructor function, __init__(self,..) of the class.\n",
    "A class attribute is a Python variable that belongs to a class rather than a particular object. It’s shared between all the objects of this class and is defined outside the constructor function, __init__(self,...), of the class."
   ]
  },
  {
   "cell_type": "markdown",
   "id": "4325655b",
   "metadata": {},
   "source": [
    " Python class attributes are variables of a class that are shared between all of its instances. They differ from instance attributes in that instance attributes are owned by one specific instance of the class and are not shared between instances."
   ]
  },
  {
   "cell_type": "code",
   "execution_count": 1,
   "id": "750a1d2f",
   "metadata": {},
   "outputs": [],
   "source": [
    "class ExampleClass(object):\n",
    "    class_attr = 0\n",
    "\n",
    "    def __init__(self, instance_attr):\n",
    "        self.instance_attr = instance_attr"
   ]
  },
  {
   "cell_type": "markdown",
   "id": "6a28b2b0",
   "metadata": {},
   "source": [
    "# 6. What is the purpose of the self parameter in Python class methods?"
   ]
  },
  {
   "cell_type": "markdown",
   "id": "b93eff2e",
   "metadata": {},
   "source": [
    "The self parameter is a reference to the current instance of the class, and is used to access variables that belongs to the class.It does not have to be named self , you can call it whatever you like, but it has to be the first parameter of any function in the class."
   ]
  },
  {
   "cell_type": "code",
   "execution_count": 8,
   "id": "64c713f4",
   "metadata": {},
   "outputs": [
    {
     "name": "stdout",
     "output_type": "stream",
     "text": [
      "Hello my name is John\n"
     ]
    }
   ],
   "source": [
    "class Person:\n",
    "    def __init__(mysillyobject, name, age):\n",
    "        mysillyobject.name = name\n",
    "        mysillyobject.age = age\n",
    "\n",
    "    def myfunc(abc):\n",
    "        print(\"Hello my name is \" + abc.name)\n",
    "\n",
    "p1 = Person(\"John\", 36)\n",
    "p1.myfunc()"
   ]
  },
  {
   "cell_type": "markdown",
   "id": "4e466526",
   "metadata": {},
   "source": [
    "# 7. For a library management system, you have to design the \"Book\" class with OOP principles in mind. The “Book” class will have following attributes:"
   ]
  },
  {
   "cell_type": "markdown",
   "id": "da1db911",
   "metadata": {},
   "source": [
    "a. title: Represents the title of the book.\n",
    "b. author: Represents the author(s) of the book.\n",
    "c. isbn: Represents the ISBN (International Standard Book Number) of the book.\n",
    "d. publication_year: Represents the year of publication of the book.\n",
    "e. available_copies: Represents the number of copies available for checkout.\n",
    "The class will also include the following methods:\n",
    "a. check_out(self): Decrements the available copies by one if there are copies\n",
    "available for checkout.\n",
    "b. return_book(self): Increments the available copies by one when a book is\n",
    "returned.\n",
    "c. display_book_info(self): Displays the information about the book, including its\n",
    "attributes and the number of available copies."
   ]
  },
  {
   "cell_type": "code",
   "execution_count": 22,
   "id": "0280ab1c",
   "metadata": {},
   "outputs": [],
   "source": [
    "class book:\n",
    "    def __init__(self,title,author,isbn,publication_year,available_copies):\n",
    "        self.title=title\n",
    "        self.author=author\n",
    "        self.isbn=isbn\n",
    "        self.publication_year=publication_year\n",
    "        self.available_copies=available_copies\n",
    "    def check_out(self,copy):\n",
    "        self.available_copies-= copy\n",
    "        return f\"now the avaialble coies are {self.available_copies}\"\n",
    "    def return_book(self,copy):\n",
    "        self.available_copies+=copy\n",
    "        return f\"now the avaialble coies are {self.available_copies}\"\n",
    "    def display_book_info(self):\n",
    "        return f\"the title of the book {self.title} written by {self.author} having International Standard Book Number as {self.isbn} published in the year {self.publication_year} copies now available are {self.available_copies} \""
   ]
  },
  {
   "cell_type": "code",
   "execution_count": 23,
   "id": "ea921cec",
   "metadata": {},
   "outputs": [],
   "source": [
    "B1=book(\"untitled\",\"unknown\",\"ISB1234\",\"2015\",25)"
   ]
  },
  {
   "cell_type": "code",
   "execution_count": 24,
   "id": "f6aa029f",
   "metadata": {},
   "outputs": [
    {
     "data": {
      "text/plain": [
       "'now the avaialble coies are 24'"
      ]
     },
     "execution_count": 24,
     "metadata": {},
     "output_type": "execute_result"
    }
   ],
   "source": [
    "B1.check_out(1)"
   ]
  },
  {
   "cell_type": "code",
   "execution_count": 26,
   "id": "a2780f39",
   "metadata": {},
   "outputs": [
    {
     "data": {
      "text/plain": [
       "'now the avaialble coies are 25'"
      ]
     },
     "execution_count": 26,
     "metadata": {},
     "output_type": "execute_result"
    }
   ],
   "source": [
    "B1.return_book(1)"
   ]
  },
  {
   "cell_type": "code",
   "execution_count": 25,
   "id": "0f9cfb27",
   "metadata": {},
   "outputs": [
    {
     "data": {
      "text/plain": [
       "'the title of the book untitled written by unknown having International Standard Book Number as ISB1234 published in the year 2015 copies now available are 24 '"
      ]
     },
     "execution_count": 25,
     "metadata": {},
     "output_type": "execute_result"
    }
   ],
   "source": [
    "B1.display_book_info()"
   ]
  },
  {
   "cell_type": "markdown",
   "id": "d5873668",
   "metadata": {},
   "source": [
    "# 8. For a ticket booking system, you have to design the \"Ticket\" class with OOP principles in mind. The “Ticket” class should have the following attributes:"
   ]
  },
  {
   "cell_type": "markdown",
   "id": "b82fe29d",
   "metadata": {},
   "source": [
    "a. ticket_id: Represents the unique identifier for the ticket.\n",
    "b. event_name: Represents the name of the event.\n",
    "c. event_date: Represents the date of the event.\n",
    "d. venue: Represents the venue of the event.\n",
    "e. seat_number: Represents the seat number associated with the ticket.\n",
    "f. price: Represents the price of the ticket.\n",
    "g. is_reserved: Represents the reservation status of the ticket.\n",
    "The class also includes the following methods:\n",
    "a. reserve_ticket(self): Marks the ticket as reserved if it is not already reserved.\n",
    "b. cancel_reservation(self): Cancels the reservation of the ticket if it is already\n",
    "reserved.\n",
    "c. display_ticket_info(self): Displays the information about the ticket, including its\n",
    "attributes and reservation status."
   ]
  },
  {
   "cell_type": "code",
   "execution_count": 42,
   "id": "19447816",
   "metadata": {},
   "outputs": [],
   "source": [
    "class Ticket:\n",
    "    def __init__(self,ticket_id,event_name,event_date,venue,seat_number,price,is_reserved):\n",
    "        self.ticket_id=ticket_id\n",
    "        self.event_name=event_name\n",
    "        self.event_date=event_date\n",
    "        self.venue=venue\n",
    "        self.seat_number=seat_number\n",
    "        self.price=price\n",
    "        self.is_reserved=is_reserved\n",
    "        \n",
    "    def reserve_ticket(self):\n",
    "        if self.is_reserved==\"reserved\":\n",
    "            return f\"{self.ticket_id} is already {self.is_reserved}\"\n",
    "        elif self.is_reserved==\"unreserved\" :\n",
    "            self.is_reserved=\"reserved\"\n",
    "            return f\"{self.ticket_id} is {self.is_reserved}\"\n",
    "    \n",
    "    def cancel_reservation(self):\n",
    "        if self.is_reserved==\"reserved\":\n",
    "            self.is_reserved=\"unreserved\"\n",
    "            return f\"ticket cancellation on id {self.ticket_id} is cancelled {self.is_reserved}\"\n",
    "        else:\n",
    "            return f\"ticket on id {self.ticket_id} has no resevation\"\n",
    "    \n",
    "    def display_ticket_info(self):\n",
    "        return f\"{self.ticket_id} for the event {self.event_name} on {self.event_date} at {self.venue}. Your seat number {self.seat_number} of price {self.price} is {self.is_reserved}\" "
   ]
  },
  {
   "cell_type": "code",
   "execution_count": 43,
   "id": "216acaf5",
   "metadata": {},
   "outputs": [],
   "source": [
    "T1=Ticket(\"TN001\",\"unauthorised\",\"1/11/2020\",\"unknown\",258,1500,\"reserved\")"
   ]
  },
  {
   "cell_type": "code",
   "execution_count": 44,
   "id": "9c956569",
   "metadata": {},
   "outputs": [
    {
     "data": {
      "text/plain": [
       "'ticket cancellation on id TN001 is cancelled unreserved'"
      ]
     },
     "execution_count": 44,
     "metadata": {},
     "output_type": "execute_result"
    }
   ],
   "source": [
    "T1.cancel_reservation()"
   ]
  },
  {
   "cell_type": "code",
   "execution_count": 45,
   "id": "306dfefe",
   "metadata": {},
   "outputs": [
    {
     "data": {
      "text/plain": [
       "'TN001 is reserved'"
      ]
     },
     "execution_count": 45,
     "metadata": {},
     "output_type": "execute_result"
    }
   ],
   "source": [
    "T1.reserve_ticket()"
   ]
  },
  {
   "cell_type": "code",
   "execution_count": 46,
   "id": "08b288b5",
   "metadata": {},
   "outputs": [
    {
     "data": {
      "text/plain": [
       "'TN001 for the event unauthorised on 1/11/2020 at unknown. Your seat number 258 of price 1500 is reserved'"
      ]
     },
     "execution_count": 46,
     "metadata": {},
     "output_type": "execute_result"
    }
   ],
   "source": [
    "T1.display_ticket_info()"
   ]
  },
  {
   "cell_type": "markdown",
   "id": "8565fa0a",
   "metadata": {},
   "source": [
    "# 9. You are creating a shopping cart for an e-commerce website. Using OOP to model the \"ShoppingCart\" functionality the class should contain following attributes and methods:"
   ]
  },
  {
   "cell_type": "markdown",
   "id": "7e5a14ec",
   "metadata": {},
   "source": [
    "a. items: Represents the list of items in the shopping cart.\n",
    "The class also includes the following methods:\n",
    "\n",
    "a. add_item(self, item): Adds an item to the shopping cart by appending it to the\n",
    "list of items.\n",
    "b. remove_item(self, item): Removes an item from the shopping cart if it exists in\n",
    "the list.\n",
    "c. view_cart(self): Displays the items currently present in the shopping cart.\n",
    "d. clear_cart(self): Clears all items from the shopping cart by reassigning an\n",
    "empty list to the items attribute."
   ]
  },
  {
   "cell_type": "code",
   "execution_count": 87,
   "id": "2a7eac16",
   "metadata": {},
   "outputs": [],
   "source": [
    "items=[\"apple\",\"banana\"]\n",
    "class ShoppingCart:\n",
    "    \n",
    "    def __init__(self,items):\n",
    "        self.item=items\n",
    "    \n",
    "    def add_item(self, item):\n",
    "        return items.append(item)\n",
    "    def remove_item(self, item):\n",
    "        if item in self.item:\n",
    "            c=self.item\n",
    "            c.remove(item)\n",
    "            return f\"remaining items in your cart are: {c}\"\n",
    "        else:\n",
    "            return \"enter valid item\"\n",
    "    def view_cart(self):\n",
    "        return f\"items in your cart are {self.item}\"\n",
    "    def clear_cart(self):\n",
    "        b=items.clear()\n",
    "        return f\"your cart is empty :\", b"
   ]
  },
  {
   "cell_type": "code",
   "execution_count": 88,
   "id": "ca210a23",
   "metadata": {},
   "outputs": [],
   "source": [
    "a=ShoppingCart(items)"
   ]
  },
  {
   "cell_type": "code",
   "execution_count": 89,
   "id": "16f6435c",
   "metadata": {},
   "outputs": [],
   "source": [
    "a.add_item(\"oil\")"
   ]
  },
  {
   "cell_type": "code",
   "execution_count": 90,
   "id": "47a8679f",
   "metadata": {},
   "outputs": [
    {
     "data": {
      "text/plain": [
       "\"items in your cart are ['apple', 'banana', 'oil']\""
      ]
     },
     "execution_count": 90,
     "metadata": {},
     "output_type": "execute_result"
    }
   ],
   "source": [
    "a.view_cart()"
   ]
  },
  {
   "cell_type": "code",
   "execution_count": 62,
   "id": "502e15fd",
   "metadata": {},
   "outputs": [
    {
     "data": {
      "text/plain": [
       "('your cart is empty :', None)"
      ]
     },
     "execution_count": 62,
     "metadata": {},
     "output_type": "execute_result"
    }
   ],
   "source": [
    "a.clear_cart()"
   ]
  },
  {
   "cell_type": "code",
   "execution_count": 91,
   "id": "dcc81324",
   "metadata": {},
   "outputs": [
    {
     "data": {
      "text/plain": [
       "\"remaining items in your cart are: ['apple', 'banana']\""
      ]
     },
     "execution_count": 91,
     "metadata": {},
     "output_type": "execute_result"
    }
   ],
   "source": [
    "a.remove_item('oil')"
   ]
  },
  {
   "cell_type": "code",
   "execution_count": 92,
   "id": "c9ae5150",
   "metadata": {},
   "outputs": [
    {
     "data": {
      "text/plain": [
       "\"items in your cart are ['apple', 'banana']\""
      ]
     },
     "execution_count": 92,
     "metadata": {},
     "output_type": "execute_result"
    }
   ],
   "source": [
    "a.view_cart()"
   ]
  },
  {
   "cell_type": "code",
   "execution_count": 93,
   "id": "8bf13991",
   "metadata": {},
   "outputs": [],
   "source": [
    "a.add_item(\"honey\")"
   ]
  },
  {
   "cell_type": "code",
   "execution_count": 94,
   "id": "cfe803d3",
   "metadata": {},
   "outputs": [
    {
     "data": {
      "text/plain": [
       "\"items in your cart are ['apple', 'banana', 'honey']\""
      ]
     },
     "execution_count": 94,
     "metadata": {},
     "output_type": "execute_result"
    }
   ],
   "source": [
    "a.view_cart()"
   ]
  },
  {
   "cell_type": "code",
   "execution_count": 95,
   "id": "d7e2b77a",
   "metadata": {},
   "outputs": [
    {
     "data": {
      "text/plain": [
       "\"remaining items in your cart are: ['banana', 'honey']\""
      ]
     },
     "execution_count": 95,
     "metadata": {},
     "output_type": "execute_result"
    }
   ],
   "source": [
    "a.remove_item(\"apple\")"
   ]
  },
  {
   "cell_type": "code",
   "execution_count": 96,
   "id": "1de2ee0a",
   "metadata": {},
   "outputs": [
    {
     "data": {
      "text/plain": [
       "\"items in your cart are ['banana', 'honey']\""
      ]
     },
     "execution_count": 96,
     "metadata": {},
     "output_type": "execute_result"
    }
   ],
   "source": [
    "a.view_cart()"
   ]
  },
  {
   "cell_type": "code",
   "execution_count": null,
   "id": "5f6ea7e6",
   "metadata": {},
   "outputs": [],
   "source": []
  },
  {
   "cell_type": "code",
   "execution_count": 56,
   "id": "408b13da",
   "metadata": {},
   "outputs": [],
   "source": [
    "locations.remove(0)"
   ]
  },
  {
   "cell_type": "code",
   "execution_count": 57,
   "id": "a79b824a",
   "metadata": {},
   "outputs": [
    {
     "data": {
      "text/plain": [
       "[1]"
      ]
     },
     "execution_count": 57,
     "metadata": {},
     "output_type": "execute_result"
    }
   ],
   "source": [
    "locations"
   ]
  },
  {
   "cell_type": "markdown",
   "id": "43c903ad",
   "metadata": {},
   "source": [
    "# 10. Imagine a school management system. You have to design the \"Student\" class using OOP concepts.The “Student” class has the following attributes:\n"
   ]
  },
  {
   "cell_type": "markdown",
   "id": "b302c000",
   "metadata": {},
   "source": [
    "a. name: Represents the name of the student.\n",
    "b. age: Represents the age of the student.\n",
    "c. grade: Represents the grade or class of the student.\n",
    "d. student_id: Represents the unique identifier for the student.\n",
    "e. attendance: Represents the attendance record of the student.\n",
    "The class should also include the following methods:\n",
    "a. update_attendance(self, date, status): Updates the attendance record of the\n",
    "student for a given date with the provided status (e.g., present or absent).\n",
    "b. get_attendance(self): Returns the attendance record of the student.\n",
    "c. get_average_attendance(self): Calculates and returns the average\n",
    "attendance percentage of the student based on their attendance record."
   ]
  },
  {
   "cell_type": "code",
   "execution_count": 10,
   "id": "d23ca2e4",
   "metadata": {},
   "outputs": [],
   "source": [
    "class Student:\n",
    "    def __init__(self,name,age,grade,student_id,attendance):\n",
    "        self.name=name\n",
    "        self.age=age\n",
    "        self.grade=grade\n",
    "        self.student_id=student_id\n",
    "        self.attendance=attendance\n",
    "        \n",
    "    def update_attendance(self, date, status):\n",
    "        if status==\"present\":\n",
    "            self.attendance=self.attendance+1\n",
    "            return f\"{self.name} is  present on {date}\"\n",
    "        elif status==\"absent\":\n",
    "            self.attendance=self.attendance+0\n",
    "            return f\"{self.name} is absent on {date}\"\n",
    "        else:\n",
    "            return \"please enter present or absent \"\n",
    "        \n",
    "    def get_attendance(self):\n",
    "        return f\"{self.name} is  present for {self.attendance} days\"\n",
    "    \n",
    "    def get_average_attendance(self):\n",
    "        a=(self.attendance/250)*100   # total working days =250\n",
    "        return f\"avreage attendance of {self.name} is :\", a\n",
    "        "
   ]
  },
  {
   "cell_type": "code",
   "execution_count": 11,
   "id": "738bc3f8",
   "metadata": {},
   "outputs": [],
   "source": [
    "karthik=Student(\"karthik\",12,8,21,120)"
   ]
  },
  {
   "cell_type": "code",
   "execution_count": 12,
   "id": "3ec1f947",
   "metadata": {},
   "outputs": [
    {
     "data": {
      "text/plain": [
       "'karthik is  present on 12/11/2023'"
      ]
     },
     "execution_count": 12,
     "metadata": {},
     "output_type": "execute_result"
    }
   ],
   "source": [
    "karthik.update_attendance(\"12/11/2023\",\"present\")"
   ]
  },
  {
   "cell_type": "code",
   "execution_count": 13,
   "id": "029d0378",
   "metadata": {},
   "outputs": [
    {
     "data": {
      "text/plain": [
       "'karthik is  present for 121 days'"
      ]
     },
     "execution_count": 13,
     "metadata": {},
     "output_type": "execute_result"
    }
   ],
   "source": [
    "karthik.get_attendance()"
   ]
  },
  {
   "cell_type": "code",
   "execution_count": 14,
   "id": "dda31b3c",
   "metadata": {},
   "outputs": [
    {
     "data": {
      "text/plain": [
       "('avreage attendance of karthik is :', 48.4)"
      ]
     },
     "execution_count": 14,
     "metadata": {},
     "output_type": "execute_result"
    }
   ],
   "source": [
    "karthik.get_average_attendance()"
   ]
  },
  {
   "cell_type": "code",
   "execution_count": 15,
   "id": "a7e104a4",
   "metadata": {},
   "outputs": [
    {
     "data": {
      "text/plain": [
       "'karthik is absent on 11/11/2023'"
      ]
     },
     "execution_count": 15,
     "metadata": {},
     "output_type": "execute_result"
    }
   ],
   "source": [
    "karthik.update_attendance('11/11/2023',\"absent\")"
   ]
  },
  {
   "cell_type": "code",
   "execution_count": 16,
   "id": "ed892d02",
   "metadata": {},
   "outputs": [
    {
     "data": {
      "text/plain": [
       "'karthik is  present for 121 days'"
      ]
     },
     "execution_count": 16,
     "metadata": {},
     "output_type": "execute_result"
    }
   ],
   "source": [
    "karthik.get_attendance()"
   ]
  },
  {
   "cell_type": "code",
   "execution_count": 17,
   "id": "cad37b06",
   "metadata": {},
   "outputs": [
    {
     "data": {
      "text/plain": [
       "('avreage attendance of karthik is :', 48.4)"
      ]
     },
     "execution_count": 17,
     "metadata": {},
     "output_type": "execute_result"
    }
   ],
   "source": [
    "karthik.get_average_attendance()"
   ]
  },
  {
   "cell_type": "code",
   "execution_count": null,
   "id": "850204d4",
   "metadata": {},
   "outputs": [],
   "source": []
  }
 ],
 "metadata": {
  "kernelspec": {
   "display_name": "Python 3 (ipykernel)",
   "language": "python",
   "name": "python3"
  },
  "language_info": {
   "codemirror_mode": {
    "name": "ipython",
    "version": 3
   },
   "file_extension": ".py",
   "mimetype": "text/x-python",
   "name": "python",
   "nbconvert_exporter": "python",
   "pygments_lexer": "ipython3",
   "version": "3.11.4"
  }
 },
 "nbformat": 4,
 "nbformat_minor": 5
}
