{
 "cells": [
  {
   "cell_type": "markdown",
   "id": "7d90ff56",
   "metadata": {},
   "source": [
    "# 1. In Python, what is the difference between a built-in function and a user-defined function? Provide an example of each."
   ]
  },
  {
   "cell_type": "markdown",
   "id": "670278cb",
   "metadata": {},
   "source": [
    "A built-in function is a function that is pre-defined in a programming language or software application. These functions are usually a part of the core functionality of the language or application and are available for use without the need to define them. Some examples of built-in functions in Python are len(), which returns the length of an object, and sum(), which calculates the sum of the elements in an iterable.\n",
    "Built-in functions are usually more efficient than user-defined functions because they are implemented in C, which is a lower-level programming language that is faster to execute than higher-level languages like Python.\n",
    "Built-in functions are often more reliable than user-defined functions because they have been extensively tested and are less likely to contain bugs.\n",
    "Built-in functions are generally easier to use than user-defined functions because they are well-documented and their usage is consistent across different programming languages and environments."
   ]
  },
  {
   "cell_type": "code",
   "execution_count": 5,
   "id": "e07c0c2a",
   "metadata": {},
   "outputs": [],
   "source": [
    "a = (1, 2, 3, 4, 5)\n",
    "x = sum(a, 7)"
   ]
  },
  {
   "cell_type": "code",
   "execution_count": 6,
   "id": "47d9d39b",
   "metadata": {},
   "outputs": [
    {
     "data": {
      "text/plain": [
       "22"
      ]
     },
     "execution_count": 6,
     "metadata": {},
     "output_type": "execute_result"
    }
   ],
   "source": [
    "x"
   ]
  },
  {
   "cell_type": "code",
   "execution_count": 7,
   "id": "0b9b0883",
   "metadata": {},
   "outputs": [
    {
     "data": {
      "text/plain": [
       "5"
      ]
     },
     "execution_count": 7,
     "metadata": {},
     "output_type": "execute_result"
    }
   ],
   "source": [
    "len(a)"
   ]
  },
  {
   "cell_type": "markdown",
   "id": "549af598",
   "metadata": {},
   "source": [
    "A user-defined function, on the other hand, is a function that is defined by the user in their code. These functions are created to perform specific tasks and can be called upon whenever the need arises in the code. User-defined functions can also be referred to as custom functions or homemade functions.\n",
    "User-defined functions allow you to create custom functionality that is specific to your needs. You can define a function to perform any task that you can write code for.\n",
    "User-defined functions can make your code more modular, which means that you can divide your code into smaller, more manageable pieces that can be reused in multiple places.\n",
    "User-defined functions can also improve the readability of your code by giving you the ability to name your functions in a way that reflects their purpose."
   ]
  },
  {
   "cell_type": "code",
   "execution_count": 12,
   "id": "08041aad",
   "metadata": {},
   "outputs": [],
   "source": [
    "def info():\n",
    "    return \"my first program\""
   ]
  },
  {
   "cell_type": "code",
   "execution_count": 13,
   "id": "be5764d4",
   "metadata": {},
   "outputs": [
    {
     "data": {
      "text/plain": [
       "'my first program'"
      ]
     },
     "execution_count": 13,
     "metadata": {},
     "output_type": "execute_result"
    }
   ],
   "source": [
    "info()"
   ]
  },
  {
   "cell_type": "markdown",
   "id": "467fe585",
   "metadata": {},
   "source": [
    "# 2. How can you pass arguments to a function in Python? Explain the difference between positional arguments and keyword arguments."
   ]
  },
  {
   "cell_type": "markdown",
   "id": "526fd65e",
   "metadata": {},
   "source": [
    "Information can be passed into functions as arguments.Arguments are specified after the function name, inside the parentheses. You can add as many arguments as you want, just separate them with a comma.The terms parameter and argument can be used for the same thing: information that are passed into a function.\n",
    "From a function's perspective:\n",
    "A parameter is the variable listed inside the parentheses in the function definition.\n",
    "An argument is the value that are sent to the function when it is called."
   ]
  },
  {
   "cell_type": "code",
   "execution_count": 10,
   "id": "1f37b9f2",
   "metadata": {},
   "outputs": [],
   "source": [
    "def summ(a,b):\n",
    "    return a+b"
   ]
  },
  {
   "cell_type": "code",
   "execution_count": 11,
   "id": "4df78de9",
   "metadata": {},
   "outputs": [
    {
     "data": {
      "text/plain": [
       "114"
      ]
     },
     "execution_count": 11,
     "metadata": {},
     "output_type": "execute_result"
    }
   ],
   "source": [
    "summ(78,36)"
   ]
  },
  {
   "cell_type": "markdown",
   "id": "674ab5ca",
   "metadata": {},
   "source": [
    "There are several types of function arguments in Python, including positional arguments, keyword arguments and default arguments. Each of these types of arguments serves a specific purpose and can be used in different ways to customize the behavior of a function or method."
   ]
  },
  {
   "cell_type": "markdown",
   "id": "d6369bdc",
   "metadata": {},
   "source": [
    "Python functions can contain two types of arguments: positional arguments and keyword arguments. Positional arguments must be included in the correct order. Keyword arguments are included with a keyword and equals sign."
   ]
  },
  {
   "cell_type": "code",
   "execution_count": 14,
   "id": "c443b26b",
   "metadata": {},
   "outputs": [],
   "source": [
    "def getgrade(name, score):\n",
    "    \"\"\" This function computes a grade given a score\"\"\"\n",
    "    if score > 80:\n",
    "        grade = 'A'\n",
    "    elif 80 > score > 70:\n",
    "        grade = 'B'\n",
    "    elif 70 > score > 60:\n",
    "        grade = 'C'\n",
    "    else:\n",
    "        grade = 'D'\n",
    "\n",
    "    return name + \" had grade: \" + grade"
   ]
  },
  {
   "cell_type": "code",
   "execution_count": 15,
   "id": "4c0ca564",
   "metadata": {},
   "outputs": [
    {
     "data": {
      "text/plain": [
       "'prince had grade: B'"
      ]
     },
     "execution_count": 15,
     "metadata": {},
     "output_type": "execute_result"
    }
   ],
   "source": [
    "getgrade('prince', 78)                  # prince had grade: B"
   ]
  },
  {
   "cell_type": "code",
   "execution_count": 16,
   "id": "a879bf17",
   "metadata": {},
   "outputs": [
    {
     "ename": "TypeError",
     "evalue": "'>' not supported between instances of 'str' and 'int'",
     "output_type": "error",
     "traceback": [
      "\u001b[1;31m---------------------------------------------------------------------------\u001b[0m",
      "\u001b[1;31mTypeError\u001b[0m                                 Traceback (most recent call last)",
      "Cell \u001b[1;32mIn[16], line 1\u001b[0m\n\u001b[1;32m----> 1\u001b[0m getgrade(\u001b[38;5;241m78\u001b[39m, \u001b[38;5;124m'\u001b[39m\u001b[38;5;124mprince\u001b[39m\u001b[38;5;124m'\u001b[39m)\n",
      "Cell \u001b[1;32mIn[14], line 3\u001b[0m, in \u001b[0;36mgetgrade\u001b[1;34m(name, score)\u001b[0m\n\u001b[0;32m      1\u001b[0m \u001b[38;5;28;01mdef\u001b[39;00m \u001b[38;5;21mgetgrade\u001b[39m(name, score):\n\u001b[0;32m      2\u001b[0m \u001b[38;5;250m    \u001b[39m\u001b[38;5;124;03m\"\"\" This function computes a grade given a score\"\"\"\u001b[39;00m\n\u001b[1;32m----> 3\u001b[0m     \u001b[38;5;28;01mif\u001b[39;00m score \u001b[38;5;241m>\u001b[39m \u001b[38;5;241m80\u001b[39m:\n\u001b[0;32m      4\u001b[0m         grade \u001b[38;5;241m=\u001b[39m \u001b[38;5;124m'\u001b[39m\u001b[38;5;124mA\u001b[39m\u001b[38;5;124m'\u001b[39m\n\u001b[0;32m      5\u001b[0m     \u001b[38;5;28;01melif\u001b[39;00m \u001b[38;5;241m80\u001b[39m \u001b[38;5;241m>\u001b[39m score \u001b[38;5;241m>\u001b[39m \u001b[38;5;241m70\u001b[39m:\n",
      "\u001b[1;31mTypeError\u001b[0m: '>' not supported between instances of 'str' and 'int'"
     ]
    }
   ],
   "source": [
    "getgrade(78, 'prince')          # ERROR"
   ]
  },
  {
   "cell_type": "code",
   "execution_count": 17,
   "id": "173e78bc",
   "metadata": {},
   "outputs": [
    {
     "data": {
      "text/plain": [
       "'prince had grade: B'"
      ]
     },
     "execution_count": 17,
     "metadata": {},
     "output_type": "execute_result"
    }
   ],
   "source": [
    "getgrade(name='prince', score=78)       # prince had grade: B"
   ]
  },
  {
   "cell_type": "code",
   "execution_count": 18,
   "id": "25d55dcb",
   "metadata": {},
   "outputs": [
    {
     "data": {
      "text/plain": [
       "'prince had grade: B'"
      ]
     },
     "execution_count": 18,
     "metadata": {},
     "output_type": "execute_result"
    }
   ],
   "source": [
    "getgrade(score=78, name='prince')        # prince had grade: B"
   ]
  },
  {
   "cell_type": "markdown",
   "id": "2fe93a3b",
   "metadata": {},
   "source": [
    "Default Arguments\n",
    "Default arguments are arguments that are given a default value when the function or method is defined. These arguments are optional, because the function or method will use the default value if no value is provided for that argument when the function is called. Default arguments can be used to provide default values for optional parameters, or to specify default behavior for a function or method. Python allows us to create functions with parameters that have default values.\n",
    "\n",
    "The default values are passed to the parameters when the function is invoked without the arguments."
   ]
  },
  {
   "cell_type": "code",
   "execution_count": 19,
   "id": "512c6512",
   "metadata": {},
   "outputs": [],
   "source": [
    "def area_perimeter(width=2, height=2):\n",
    "    area = width * height\n",
    "    perimeter = (2 * width) + (2 * height)\n",
    "\n",
    "    print(\"Area = \" + str(area) + \"  and  Perimeter = \" + str(perimeter))"
   ]
  },
  {
   "cell_type": "code",
   "execution_count": 20,
   "id": "f07d55f1",
   "metadata": {},
   "outputs": [
    {
     "name": "stdout",
     "output_type": "stream",
     "text": [
      "Area = 4  and  Perimeter = 8\n",
      "Area = 50  and  Perimeter = 30\n",
      "Area = 20  and  Perimeter = 24\n",
      "Area = 180  and  Perimeter = 98\n",
      "Area = 30  and  Perimeter = 34\n"
     ]
    }
   ],
   "source": [
    "area_perimeter()            # this function call uses the default arguments\n",
    "\n",
    "area_perimeter(10, 5)       # positional arguments width=10 height=5\n",
    "\n",
    "area_perimeter(width=10)     # this will set height to use the default value, 2\n",
    "\n",
    "area_perimeter(height=4, width=45)      # keyword arguments\n",
    "\n",
    "area_perimeter(15)           # sets width = 15 and height uses the default value"
   ]
  },
  {
   "cell_type": "markdown",
   "id": "d1e3d878",
   "metadata": {},
   "source": [
    "# 3. What is the purpose of the return statement in a function? Can a function have multiple return statements? Explain with an example."
   ]
  },
  {
   "cell_type": "markdown",
   "id": "e3f30601",
   "metadata": {},
   "source": [
    "The Python return statement is used in a function to return something to the caller program.\n",
    "We can use the return statement inside a function only.\n",
    "In Python, every function returns something. If there are no return statements, then it returns None.\n",
    "If the return statement contains an expression, it’s evaluated first and then the value is returned.\n",
    "The return statement terminates the function execution.\n",
    "A function can have multiple return statements. When any of them is executed, the function terminates.\n",
    "A function can return multiple types of values.\n",
    "Python functions can return multiple values in a single return statement.\n"
   ]
  },
  {
   "cell_type": "code",
   "execution_count": 21,
   "id": "bbe1075a",
   "metadata": {},
   "outputs": [],
   "source": [
    "def type_of_int(i):\n",
    "    if i % 2 == 0:\n",
    "        return 'even'\n",
    "    else:\n",
    "        return 'odd'"
   ]
  },
  {
   "cell_type": "code",
   "execution_count": 22,
   "id": "160aec68",
   "metadata": {},
   "outputs": [
    {
     "data": {
      "text/plain": [
       "'odd'"
      ]
     },
     "execution_count": 22,
     "metadata": {},
     "output_type": "execute_result"
    }
   ],
   "source": [
    "type_of_int(7)"
   ]
  },
  {
   "cell_type": "markdown",
   "id": "e54f8ca7",
   "metadata": {},
   "source": [
    "# 4. What are lambda functions in Python? How are they different from regular functions? Provide an example where a lambda function can be useful."
   ]
  },
  {
   "cell_type": "markdown",
   "id": "b0a9e78f",
   "metadata": {},
   "source": [
    "lambda function (anonymous function,inline function).lambda keyword is used whereas in regular function def keyword along with function name is given enclosed in parenthesis if necessary aurguments are given.\n",
    "lambda functions are single line operartions(small function)  defined without a name that can take any number of arguments, unlike normal functions, evaluates and returns only one expression.\n",
    "disad:\n",
    "1.not reading friendly\n",
    "2.cannot used in complex problems\n",
    "3.cannot take user inputs"
   ]
  },
  {
   "cell_type": "code",
   "execution_count": 23,
   "id": "2c3cd0c1",
   "metadata": {},
   "outputs": [
    {
     "data": {
      "text/plain": [
       "11"
      ]
     },
     "execution_count": 23,
     "metadata": {},
     "output_type": "execute_result"
    }
   ],
   "source": [
    "add= lambda x,y: x+y\n",
    "add(5,6)"
   ]
  },
  {
   "cell_type": "markdown",
   "id": "8d603fed",
   "metadata": {},
   "source": [
    "A lambda function is an anonymous function (i.e., defined without a name) that can take any number of arguments but, unlike normal functions, evaluates and returns only one expression. Note that, unlike a normal function, we don't surround the parameters of a lambda function with parentheses."
   ]
  },
  {
   "cell_type": "markdown",
   "id": "a2367201",
   "metadata": {},
   "source": [
    "We use a lambda function to evaluate only one short expression (ideally, a single-line) and only once, meaning that we aren't going to apply this function later. Usually, we pass a lambda function as an argument to a higher-order function (the one that takes in other functions as arguments), such as Python built-in functions like filter(), map(), or reduce()."
   ]
  },
  {
   "cell_type": "markdown",
   "id": "553cd8d2",
   "metadata": {},
   "source": [
    "# 5. How does the concept of \"scope\" apply to functions in Python? Explain the difference between local scope and global scope."
   ]
  },
  {
   "cell_type": "markdown",
   "id": "88a506eb",
   "metadata": {},
   "source": [
    "The concept of scope is closely related to the concept of the namespace. As you've learned so far, a Python scope determines where in your program a name is visible. Python scopes are implemented as dictionaries that map names to objects. These dictionaries are commonly called namespaces.\n",
    "A variable is only available from inside the region it is created. This is called scope."
   ]
  },
  {
   "cell_type": "markdown",
   "id": "af84d6f2",
   "metadata": {},
   "source": [
    "Local Scope\n",
    "A variable created inside a function belongs to the local scope of that function, and can only be used inside that function."
   ]
  },
  {
   "cell_type": "code",
   "execution_count": 1,
   "id": "0c8da1fc",
   "metadata": {},
   "outputs": [
    {
     "name": "stdout",
     "output_type": "stream",
     "text": [
      "300\n"
     ]
    }
   ],
   "source": [
    "def myfunc():\n",
    "  x = 300\n",
    "  print(x)\n",
    "\n",
    "myfunc()"
   ]
  },
  {
   "cell_type": "code",
   "execution_count": 2,
   "id": "aa936a9b",
   "metadata": {},
   "outputs": [
    {
     "name": "stdout",
     "output_type": "stream",
     "text": [
      "300\n"
     ]
    }
   ],
   "source": [
    "def myfunc():\n",
    "  x = 300\n",
    "  def myinnerfunc():\n",
    "    print(x)\n",
    "  myinnerfunc()\n",
    "\n",
    "myfunc()"
   ]
  },
  {
   "cell_type": "markdown",
   "id": "45d8566d",
   "metadata": {},
   "source": [
    "Global Scope\n",
    "A variable created in the main body of the Python code is a global variable and belongs to the global scope.\n",
    "\n",
    "Global variables are available from within any scope, global and local."
   ]
  },
  {
   "cell_type": "code",
   "execution_count": 3,
   "id": "aaaadd49",
   "metadata": {},
   "outputs": [
    {
     "name": "stdout",
     "output_type": "stream",
     "text": [
      "300\n",
      "300\n"
     ]
    }
   ],
   "source": [
    "x = 300\n",
    "\n",
    "def myfunc():\n",
    "  print(x)\n",
    "\n",
    "myfunc()\n",
    "\n",
    "print(x)"
   ]
  },
  {
   "cell_type": "markdown",
   "id": "15a0e5cc",
   "metadata": {},
   "source": [
    "Naming Variables\n",
    "If you operate with the same variable name inside and outside of a function, Python will treat them as two separate variables, one available in the global scope (outside the function) and one available in the local scope (inside the function)\n",
    "Global Keyword\n",
    "If you need to create a global variable, but are stuck in the local scope, you can use the global keyword.\n",
    "The global keyword makes the variable global."
   ]
  },
  {
   "cell_type": "code",
   "execution_count": 6,
   "id": "507df017",
   "metadata": {},
   "outputs": [
    {
     "name": "stdout",
     "output_type": "stream",
     "text": [
      "200\n",
      "300\n"
     ]
    }
   ],
   "source": [
    "x = 300\n",
    "\n",
    "def myfunc():\n",
    "  x = 200\n",
    "  print(x)\n",
    "\n",
    "myfunc()\n",
    "\n",
    "print(x)"
   ]
  },
  {
   "cell_type": "code",
   "execution_count": 7,
   "id": "866942d8",
   "metadata": {},
   "outputs": [
    {
     "name": "stdout",
     "output_type": "stream",
     "text": [
      "300\n"
     ]
    }
   ],
   "source": [
    "def myfunc():\n",
    "  global x\n",
    "  x = 300\n",
    "\n",
    "myfunc()\n",
    "\n",
    "print(x)"
   ]
  },
  {
   "cell_type": "code",
   "execution_count": 8,
   "id": "62013828",
   "metadata": {},
   "outputs": [
    {
     "name": "stdout",
     "output_type": "stream",
     "text": [
      "200\n"
     ]
    }
   ],
   "source": [
    "# To change the value of a global variable inside a function, refer to the variable by using the global keyword:\n",
    "\n",
    "x = 300\n",
    "\n",
    "def myfunc():\n",
    "  global x\n",
    "  x = 200\n",
    "\n",
    "myfunc()\n",
    "\n",
    "print(x)"
   ]
  },
  {
   "cell_type": "markdown",
   "id": "6f9dd43e",
   "metadata": {},
   "source": [
    "# 6. How can you use the \"return\" statement in a Python function to return multiple values?"
   ]
  },
  {
   "cell_type": "markdown",
   "id": "30ebb0ba",
   "metadata": {},
   "source": [
    "Using Comma-separated values (Tuples):\n",
    "In this method, we use Python to return multiple values by simply separating them by commas. Python basically uses a tuple to achieve this.A common confusion here is that the syntax of tuple requires a pair of brackets (). Although this is true, Python does not always require brackets to identify a tuple."
   ]
  },
  {
   "cell_type": "code",
   "execution_count": 13,
   "id": "6a9cd2c2",
   "metadata": {},
   "outputs": [
    {
     "data": {
      "text/plain": [
       "('Sum', 15)"
      ]
     },
     "execution_count": 13,
     "metadata": {},
     "output_type": "execute_result"
    }
   ],
   "source": [
    "#Returning Multiple Values using Tuples\n",
    "def multiple():\n",
    "    operation = \"Sum\" \n",
    "    total = 5+10\n",
    "    return operation, total;\n",
    "\n",
    "# operation, total = multiple()\n",
    "# print(operation, total)\n",
    "multiple()"
   ]
  },
  {
   "cell_type": "markdown",
   "id": "0e1fa158",
   "metadata": {},
   "source": [
    "Using Python Lists:\n",
    "Similar to the previous methods, lists can also be used to return multiple values, too. Since they are a collection of items we could add values to the list and return the list.we have to use the index of the list to use the values individually."
   ]
  },
  {
   "cell_type": "code",
   "execution_count": 17,
   "id": "1b85b117",
   "metadata": {},
   "outputs": [
    {
     "data": {
      "text/plain": [
       "['Sum', 15]"
      ]
     },
     "execution_count": 17,
     "metadata": {},
     "output_type": "execute_result"
    }
   ],
   "source": [
    "#Returning Multiple Values using List\n",
    "def multiple():\n",
    "    operation = \"Sum\" \n",
    "    total = 5+10\n",
    "    return [operation, total];\n",
    "\n",
    "multiple()\n"
   ]
  },
  {
   "cell_type": "markdown",
   "id": "3a7b6bd2",
   "metadata": {},
   "source": [
    "Using a Python Dictionary:\n",
    "In the previous method, accessing a particular value would be a hassle. However, this would not be a problem while using dictionaries to return multiple values. This is because we could use relevant key names and they could be accessed easily.The returned values can easily be accessed within their keys."
   ]
  },
  {
   "cell_type": "code",
   "execution_count": 20,
   "id": "7df29661",
   "metadata": {},
   "outputs": [
    {
     "data": {
      "text/plain": [
       "{'operation': 'Sum', 'total': 15}"
      ]
     },
     "execution_count": 20,
     "metadata": {},
     "output_type": "execute_result"
    }
   ],
   "source": [
    "#Returning Multiple Values using Dictionary\n",
    "def multiple():\n",
    "    values = dict();\n",
    "    values['operation'] = \"Sum\" \n",
    "    values['total'] = 5+10\n",
    "    return values;\n",
    " \n",
    "multiple()\n"
   ]
  },
  {
   "cell_type": "markdown",
   "id": "62fd5991",
   "metadata": {},
   "source": [
    "Using a Python Data Class:\n",
    "In this method, we use Data Classes to return multiple values. Data classes are a method of adding specific methods to a user-defined class. This method was introduced in Python version 3.7."
   ]
  },
  {
   "cell_type": "code",
   "execution_count": 28,
   "id": "a21d4abb",
   "metadata": {},
   "outputs": [],
   "source": [
    "#Returning Multiple Values using Data Classes\n",
    "from dataclasses import dataclass\n",
    "\n",
    "@dataclass\n",
    "class multiplevalues():\n",
    "    operation: str\n",
    "    num1: int = 0\n",
    "    num2: int = 0\n",
    "    def values(self):\n",
    "        return self.num1 + self.num2   \n",
    "\n",
    "#passing arguments into the Data Class \n",
    "all_values = multiplevalues(\"Addition\", 5, 10)\n",
    "v = all_values.values() \n"
   ]
  },
  {
   "cell_type": "code",
   "execution_count": 29,
   "id": "0262a02b",
   "metadata": {},
   "outputs": [
    {
     "data": {
      "text/plain": [
       "multiplevalues(operation='Addition', num1=5, num2=10)"
      ]
     },
     "execution_count": 29,
     "metadata": {},
     "output_type": "execute_result"
    }
   ],
   "source": [
    "multiplevalues(\"Addition\", 5, 10)"
   ]
  },
  {
   "cell_type": "code",
   "execution_count": 30,
   "id": "9ee3e689",
   "metadata": {},
   "outputs": [
    {
     "data": {
      "text/plain": [
       "15"
      ]
     },
     "execution_count": 30,
     "metadata": {},
     "output_type": "execute_result"
    }
   ],
   "source": [
    "v"
   ]
  },
  {
   "cell_type": "markdown",
   "id": "1dd1a584",
   "metadata": {},
   "source": [
    "# 7. What is the difference between the \"pass by value\" and \"pass by reference\" concepts when it comes to function arguments in Python?"
   ]
  },
  {
   "cell_type": "markdown",
   "id": "5008854b",
   "metadata": {},
   "source": [
    "When we define a custom or user defined function in Python we may, optionally we may need to specify parameter names between the function’s parentheses.\n",
    "\n",
    "If we specify parameters in the function definition, then we need to pass argument values to the function’s parameters while calling it.\n",
    "\n",
    "The function use that passed values during its execution by referencing it via parameter name.\n",
    "\n",
    "Basically, there are two ways to pass argument values to the function’s parameters. They are:\n",
    "\n",
    "Call/Pass by Value\n",
    "Call/Pass by Reference\n",
    "\n",
    "In pass by value (also known as call by value), the argument passed to the function is the copy of of its original object. If we change or update the value of object inside the function, then original object will not change.\n",
    "\n",
    "If the argument is passed by value, a copy of it is made and passed to the function. If the argument values being passed to the function is large, the copying can take up a lot of time and memory.\n",
    "\n",
    "That’s why Python language does not support the pass by value concept.\n",
    "In pass by reference (also known as call by reference), the argument passed to the function’s parameter is the original object. If we change the value of object inside the function, the original object will also change."
   ]
  },
  {
   "cell_type": "markdown",
   "id": "924744a5",
   "metadata": {},
   "source": [
    "Immutable arguments, such as integers, floats, strings, and tuples, are passed by value. A copy of them is made and passed to the function. If they are modified inside the function, the original will not update.\n",
    "On the other hand, mutable arguments, such as lists, dictionaries, sets, and instances of classes, are passed by reference mechanism. They can be modified inside the function.\n",
    "Is Python pass by value or pass by reference:\n",
    "Neither of these mechanisms of argument passing applies to Python. In Python programming language, the mechanism is pass by object reference. This technique is unique as compared to other programming languages.\n",
    "\n",
    "We know that almost everything in Python is an object. Thus, every value is an object in Python, and all values contain references to actual objects.\n",
    "\n",
    "In other words, we can say, object references that refer to the actual objects are passed by value. We call this mechanism as pass by object reference in Python."
   ]
  },
  {
   "cell_type": "code",
   "execution_count": 6,
   "id": "cad03035",
   "metadata": {},
   "outputs": [
    {
     "name": "stdout",
     "output_type": "stream",
     "text": [
      "Values inside the function:  [1, 2, 3, 4]\n",
      "Values outside the function:  [10, 20, 30]\n"
     ]
    }
   ],
   "source": [
    "# Function definition is here pass by value\n",
    "def changeme( mylist ):\n",
    "   \"This changes a passed list into this function\"\n",
    "   mylist = [1,2,3,4]; # This would assig new reference in mylist\n",
    "   print(\"Values inside the function: \", mylist)\n",
    "   return\n",
    "\n",
    "# Now you can call changeme function\n",
    "mylist = [10,20,30];\n",
    "changeme( mylist );\n",
    "print (\"Values outside the function: \", mylist)"
   ]
  },
  {
   "cell_type": "code",
   "execution_count": 7,
   "id": "d2dc3736",
   "metadata": {},
   "outputs": [
    {
     "name": "stdout",
     "output_type": "stream",
     "text": [
      "Values inside the function:  [1, 2, 3, 4]\n"
     ]
    }
   ],
   "source": [
    "changeme( mylist )"
   ]
  },
  {
   "cell_type": "code",
   "execution_count": 41,
   "id": "983dd664",
   "metadata": {},
   "outputs": [
    {
     "name": "stdout",
     "output_type": "stream",
     "text": [
      "Values outside the function before modifying: [1, 2, 3]\n",
      "Values inside the function before modifying: [1, 2, 3]\n",
      "Values inside the function after modifying: [1, 2, 4]\n",
      "Values outside the function after modifying: [1, 2, 4]\n"
     ]
    }
   ],
   "source": [
    "# This program illustrates the concept of call by object reference using mutable objects.pass by reference\n",
    "def my_funct(y):\n",
    "    print('Values inside the function before modifying:',y)\n",
    "    y[2] = 4 # modifying value.\n",
    "    print('Values inside the function after modifying:',y)\n",
    "\n",
    "# Main part of program.\n",
    "x = [1, 2, 3] # List of values.\n",
    "print('Values outside the function before modifying:',x)\n",
    "\n",
    "my_funct(x) # calling function with passing x to function parameter y.\n",
    "print('Values outside the function after modifying:',x)"
   ]
  },
  {
   "cell_type": "markdown",
   "id": "a60385eb",
   "metadata": {},
   "source": [
    "# 8. Create a function that can intake integer or decimal value and do following operations:\n",
    "a. Logarithmic function (log x)\n",
    "b. Exponential function (exp(x))\n",
    "c. Power function with base 2(2x)\n",
    "d. Square root"
   ]
  },
  {
   "cell_type": "code",
   "execution_count": 8,
   "id": "596158d5",
   "metadata": {},
   "outputs": [],
   "source": [
    "import math"
   ]
  },
  {
   "cell_type": "code",
   "execution_count": 13,
   "id": "153b7268",
   "metadata": {},
   "outputs": [],
   "source": [
    "def log(x):\n",
    "    a=math.log(x)\n",
    "    return a"
   ]
  },
  {
   "cell_type": "code",
   "execution_count": 15,
   "id": "9b0e116d",
   "metadata": {},
   "outputs": [
    {
     "data": {
      "text/plain": [
       "2.302585092994046"
      ]
     },
     "execution_count": 15,
     "metadata": {},
     "output_type": "execute_result"
    }
   ],
   "source": [
    "log(10)"
   ]
  },
  {
   "cell_type": "code",
   "execution_count": 19,
   "id": "04bd685c",
   "metadata": {},
   "outputs": [],
   "source": [
    "def expo(x):\n",
    "    a=math.exp(x)\n",
    "    return a"
   ]
  },
  {
   "cell_type": "code",
   "execution_count": 20,
   "id": "3129cb2b",
   "metadata": {},
   "outputs": [
    {
     "data": {
      "text/plain": [
       "7.38905609893065"
      ]
     },
     "execution_count": 20,
     "metadata": {},
     "output_type": "execute_result"
    }
   ],
   "source": [
    "expo(2)"
   ]
  },
  {
   "cell_type": "code",
   "execution_count": 22,
   "id": "4daed476",
   "metadata": {},
   "outputs": [],
   "source": [
    "def power(x):\n",
    "    a=2**x\n",
    "    return a"
   ]
  },
  {
   "cell_type": "code",
   "execution_count": 24,
   "id": "04913250",
   "metadata": {},
   "outputs": [
    {
     "data": {
      "text/plain": [
       "32"
      ]
     },
     "execution_count": 24,
     "metadata": {},
     "output_type": "execute_result"
    }
   ],
   "source": [
    "power(5)"
   ]
  },
  {
   "cell_type": "code",
   "execution_count": 25,
   "id": "322b2477",
   "metadata": {},
   "outputs": [],
   "source": [
    "def sqrt(x):\n",
    "    a=math.sqrt(x)\n",
    "    return a"
   ]
  },
  {
   "cell_type": "code",
   "execution_count": 28,
   "id": "37eca908",
   "metadata": {},
   "outputs": [
    {
     "data": {
      "text/plain": [
       "9.0"
      ]
     },
     "execution_count": 28,
     "metadata": {},
     "output_type": "execute_result"
    }
   ],
   "source": [
    "sqrt(81)"
   ]
  },
  {
   "cell_type": "markdown",
   "id": "c192d1e6",
   "metadata": {},
   "source": [
    "# 9. Create a function that takes a full name as an argument and returns first name and last name."
   ]
  },
  {
   "cell_type": "code",
   "execution_count": 31,
   "id": "70dafc32",
   "metadata": {},
   "outputs": [
    {
     "name": "stdout",
     "output_type": "stream",
     "text": [
      "enter first name : pinky\n",
      "enter last name : sony\n",
      "hello pinky sony\n"
     ]
    }
   ],
   "source": [
    "def fullname(first,last):\n",
    "    fullname=first+\" \"+last\n",
    "    print(\"hello\",fullname)\n",
    "first = input(\"enter first name : \")\n",
    "last = input(\"enter last name : \")\n",
    "fullname(first,last)"
   ]
  },
  {
   "cell_type": "code",
   "execution_count": 36,
   "id": "58a0b605",
   "metadata": {},
   "outputs": [],
   "source": [
    "fullname=\"Sarah Simpson\"\n",
    "ls=fullname.split()\n",
    "ls=fullname.split(\" \") #this will split by specified space"
   ]
  },
  {
   "cell_type": "code",
   "execution_count": 78,
   "id": "b505809b",
   "metadata": {},
   "outputs": [],
   "source": [
    "def name(fullname):\n",
    "    a=fullname.split(\" \")\n",
    "    list(a)\n",
    "    print(\"first name is: \",a[0])\n",
    "    print(\"last name is: \",a[1])\n",
    "    "
   ]
  },
  {
   "cell_type": "code",
   "execution_count": 79,
   "id": "479cee95",
   "metadata": {},
   "outputs": [
    {
     "name": "stdout",
     "output_type": "stream",
     "text": [
      "first name is:  pinky\n",
      "last name is:  sony\n"
     ]
    }
   ],
   "source": [
    "name('pinky sony')"
   ]
  },
  {
   "cell_type": "code",
   "execution_count": null,
   "id": "0d3f719a",
   "metadata": {},
   "outputs": [],
   "source": []
  }
 ],
 "metadata": {
  "kernelspec": {
   "display_name": "Python 3 (ipykernel)",
   "language": "python",
   "name": "python3"
  },
  "language_info": {
   "codemirror_mode": {
    "name": "ipython",
    "version": 3
   },
   "file_extension": ".py",
   "mimetype": "text/x-python",
   "name": "python",
   "nbconvert_exporter": "python",
   "pygments_lexer": "ipython3",
   "version": "3.11.4"
  }
 },
 "nbformat": 4,
 "nbformat_minor": 5
}
