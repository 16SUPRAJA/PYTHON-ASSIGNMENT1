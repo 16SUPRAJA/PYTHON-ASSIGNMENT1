{
 "cells": [
  {
   "cell_type": "raw",
   "id": "e5100687",
   "metadata": {},
   "source": [
    "Q.1. What are keywords in python? Using the keyword library, print all the python keywords."
   ]
  },
  {
   "cell_type": "raw",
   "id": "cbf2cbe6",
   "metadata": {},
   "source": [
    "Keywords in Python are reserved words that cannot be used as ordinary identifiers. They are used to define the syntax and structure of the Python language. Keywords are immutable. This means their meaning and definition can't be altered.Keywords are case-sensitive. For example, True is a valid keyword, but true is not.\n",
    "As of Python 3.9, there are 35 keywords."
   ]
  },
  {
   "cell_type": "code",
   "execution_count": 1,
   "id": "e390899d",
   "metadata": {},
   "outputs": [
    {
     "name": "stdout",
     "output_type": "stream",
     "text": [
      "['False', 'None', 'True', 'and', 'as', 'assert', 'async', 'await', 'break', 'class', 'continue', 'def', 'del', 'elif', 'else', 'except', 'finally', 'for', 'from', 'global', 'if', 'import', 'in', 'is', 'lambda', 'nonlocal', 'not', 'or', 'pass', 'raise', 'return', 'try', 'while', 'with', 'yield']\n"
     ]
    }
   ],
   "source": [
    "import keyword   \n",
    "print(keyword.kwlist)"
   ]
  },
  {
   "cell_type": "raw",
   "id": "54054de0",
   "metadata": {},
   "source": [
    "Q.2. What are the rules to create variables in python?"
   ]
  },
  {
   "cell_type": "raw",
   "id": "b0427a23",
   "metadata": {},
   "source": [
    "A variable is a named location used to store data in memory.Variables are declared by writing the variable name and assigning it a value using the equals sign (=). Numbers are not allowed as variables. space is not allowed while assigning a value insted we can use underscore.A variable name must start with a letter or the underscore character.Variable names are case-sensitive.alpha-numeric characters "
   ]
  },
  {
   "cell_type": "code",
   "execution_count": 2,
   "id": "0339c7ee",
   "metadata": {},
   "outputs": [
    {
     "ename": "SyntaxError",
     "evalue": "cannot assign to literal here. Maybe you meant '==' instead of '='? (2378387746.py, line 1)",
     "output_type": "error",
     "traceback": [
      "\u001b[1;36m  Cell \u001b[1;32mIn[2], line 1\u001b[1;36m\u001b[0m\n\u001b[1;33m    5=\"hai\"\u001b[0m\n\u001b[1;37m    ^\u001b[0m\n\u001b[1;31mSyntaxError\u001b[0m\u001b[1;31m:\u001b[0m cannot assign to literal here. Maybe you meant '==' instead of '='?\n"
     ]
    }
   ],
   "source": [
    "5=\"hai\""
   ]
  },
  {
   "cell_type": "code",
   "execution_count": 3,
   "id": "20abb4b1",
   "metadata": {},
   "outputs": [
    {
     "ename": "SyntaxError",
     "evalue": "invalid syntax (3068259884.py, line 1)",
     "output_type": "error",
     "traceback": [
      "\u001b[1;36m  Cell \u001b[1;32mIn[3], line 1\u001b[1;36m\u001b[0m\n\u001b[1;33m    m h=25\u001b[0m\n\u001b[1;37m      ^\u001b[0m\n\u001b[1;31mSyntaxError\u001b[0m\u001b[1;31m:\u001b[0m invalid syntax\n"
     ]
    }
   ],
   "source": [
    "m h=25"
   ]
  },
  {
   "cell_type": "code",
   "execution_count": 4,
   "id": "ea9873a2",
   "metadata": {},
   "outputs": [
    {
     "ename": "SyntaxError",
     "evalue": "invalid decimal literal (1804168806.py, line 1)",
     "output_type": "error",
     "traceback": [
      "\u001b[1;36m  Cell \u001b[1;32mIn[4], line 1\u001b[1;36m\u001b[0m\n\u001b[1;33m    2k=45\u001b[0m\n\u001b[1;37m    ^\u001b[0m\n\u001b[1;31mSyntaxError\u001b[0m\u001b[1;31m:\u001b[0m invalid decimal literal\n"
     ]
    }
   ],
   "source": [
    "2k=45"
   ]
  },
  {
   "cell_type": "code",
   "execution_count": 5,
   "id": "228f844d",
   "metadata": {},
   "outputs": [],
   "source": [
    "k4=\"hello\""
   ]
  },
  {
   "cell_type": "code",
   "execution_count": 6,
   "id": "90071c87",
   "metadata": {},
   "outputs": [],
   "source": [
    "_=87"
   ]
  },
  {
   "cell_type": "raw",
   "id": "c189bb10",
   "metadata": {},
   "source": [
    "Q.3. What are the standards and conventions followed for the nomenclature of variables in python to improve code readability and maintainability?"
   ]
  },
  {
   "cell_type": "raw",
   "id": "64af1835",
   "metadata": {},
   "source": [
    "Instance variable names should follow the lowercase convention.\n",
    "Have the underscore as a separator while naming a multi-word instance variable.\n",
    "Begin a non-public instance variable name with a single underscore.\n",
    "Use two consecutive underscores at the beginning of an instance variable. It will get private"
   ]
  },
  {
   "cell_type": "raw",
   "id": "599a9944",
   "metadata": {},
   "source": [
    "Q.4. What will happen if a keyword is used as a variable name?"
   ]
  },
  {
   "cell_type": "code",
   "execution_count": 7,
   "id": "5a7c9854",
   "metadata": {},
   "outputs": [
    {
     "ename": "SyntaxError",
     "evalue": "cannot assign to True (3674686340.py, line 1)",
     "output_type": "error",
     "traceback": [
      "\u001b[1;36m  Cell \u001b[1;32mIn[7], line 1\u001b[1;36m\u001b[0m\n\u001b[1;33m    True=\"hai\"\u001b[0m\n\u001b[1;37m    ^\u001b[0m\n\u001b[1;31mSyntaxError\u001b[0m\u001b[1;31m:\u001b[0m cannot assign to True\n"
     ]
    }
   ],
   "source": [
    "True=\"hai\""
   ]
  },
  {
   "cell_type": "code",
   "execution_count": 8,
   "id": "7a598755",
   "metadata": {},
   "outputs": [
    {
     "ename": "SyntaxError",
     "evalue": "invalid syntax (3485197860.py, line 1)",
     "output_type": "error",
     "traceback": [
      "\u001b[1;36m  Cell \u001b[1;32mIn[8], line 1\u001b[1;36m\u001b[0m\n\u001b[1;33m    def=25\u001b[0m\n\u001b[1;37m       ^\u001b[0m\n\u001b[1;31mSyntaxError\u001b[0m\u001b[1;31m:\u001b[0m invalid syntax\n"
     ]
    }
   ],
   "source": [
    "def=25"
   ]
  },
  {
   "cell_type": "code",
   "execution_count": 9,
   "id": "25ecf7f6",
   "metadata": {},
   "outputs": [
    {
     "ename": "SyntaxError",
     "evalue": "invalid syntax (3052805507.py, line 1)",
     "output_type": "error",
     "traceback": [
      "\u001b[1;36m  Cell \u001b[1;32mIn[9], line 1\u001b[1;36m\u001b[0m\n\u001b[1;33m    or=\"hello\"\u001b[0m\n\u001b[1;37m    ^\u001b[0m\n\u001b[1;31mSyntaxError\u001b[0m\u001b[1;31m:\u001b[0m invalid syntax\n"
     ]
    }
   ],
   "source": [
    "or=\"hello\""
   ]
  },
  {
   "cell_type": "raw",
   "id": "e5042eec",
   "metadata": {},
   "source": [
    "As shown we cannot assign to keyword"
   ]
  },
  {
   "cell_type": "raw",
   "id": "50f446e8",
   "metadata": {},
   "source": [
    "Q.5. For what purpose def keyword is used?"
   ]
  },
  {
   "cell_type": "raw",
   "id": "e5e2af30",
   "metadata": {},
   "source": [
    "def keyword is used to define a function, it is placed before a function name that is provided by the user to create a user-defined function."
   ]
  },
  {
   "cell_type": "code",
   "execution_count": 11,
   "id": "e681256d",
   "metadata": {},
   "outputs": [],
   "source": [
    "def usage():\n",
    "    print(\"Using def\")"
   ]
  },
  {
   "cell_type": "code",
   "execution_count": 12,
   "id": "6c611723",
   "metadata": {},
   "outputs": [
    {
     "name": "stdout",
     "output_type": "stream",
     "text": [
      "Using def\n"
     ]
    }
   ],
   "source": [
    "usage()"
   ]
  },
  {
   "cell_type": "raw",
   "id": "ded8ecf3",
   "metadata": {},
   "source": [
    "Q.6. What is the operation of this special character ‘\\’?"
   ]
  },
  {
   "cell_type": "raw",
   "id": "98bfe2fa",
   "metadata": {},
   "source": [
    "Backslash \"\\\" is a special character, also called the \"escape\" character. It is used in representing certain whitespace characters: \"\\t\" is a tab, \"\\n\" is a newline, and \"\\r\" is a carriage return. Conversely, prefixing a special character with \"\\\" turns it into an ordinary character."
   ]
  },
  {
   "cell_type": "code",
   "execution_count": 20,
   "id": "e35d8e4f",
   "metadata": {},
   "outputs": [
    {
     "name": "stdout",
     "output_type": "stream",
     "text": [
      "hai hello\thow are you\n"
     ]
    }
   ],
   "source": [
    "print(\"hai hello\\thow are you\")"
   ]
  },
  {
   "cell_type": "code",
   "execution_count": 21,
   "id": "8dfedc00",
   "metadata": {},
   "outputs": [
    {
     "name": "stdout",
     "output_type": "stream",
     "text": [
      "hai hello\n",
      "how are you\n"
     ]
    }
   ],
   "source": [
    "print(\"hai hello\\nhow are you\")"
   ]
  },
  {
   "cell_type": "code",
   "execution_count": 22,
   "id": "00f670dc",
   "metadata": {},
   "outputs": [
    {
     "name": "stdout",
     "output_type": "stream",
     "text": [
      "hai hello\\how are you\n"
     ]
    }
   ],
   "source": [
    "print(\"hai hello\\how are you\")"
   ]
  },
  {
   "cell_type": "code",
   "execution_count": 23,
   "id": "67b17f44",
   "metadata": {},
   "outputs": [
    {
     "name": "stdout",
     "output_type": "stream",
     "text": [
      "It's raining\n"
     ]
    }
   ],
   "source": [
    "print('It\\'s raining')"
   ]
  },
  {
   "cell_type": "code",
   "execution_count": 24,
   "id": "83adcb7d",
   "metadata": {},
   "outputs": [
    {
     "data": {
      "text/plain": [
       "\"It's raining\""
      ]
     },
     "execution_count": 24,
     "metadata": {},
     "output_type": "execute_result"
    }
   ],
   "source": [
    "'It\\'s raining' "
   ]
  },
  {
   "cell_type": "code",
   "execution_count": 29,
   "id": "5f55d5f6",
   "metadata": {},
   "outputs": [
    {
     "name": "stdout",
     "output_type": "stream",
     "text": [
      "\"hello\"\n"
     ]
    }
   ],
   "source": [
    "print(\"\\\"hello\\\"\")  # '\"' can be escaped \"\\\"hello\\\"\" is a string begins and ends with the literal double quote character"
   ]
  },
  {
   "cell_type": "code",
   "execution_count": 27,
   "id": "c3bd3f37",
   "metadata": {},
   "outputs": [
    {
     "name": "stdout",
     "output_type": "stream",
     "text": [
      "\"\\\" is the backslash\n"
     ]
    }
   ],
   "source": [
    "print('\"\\\\\" is the backslash')   #  \"\\\" can be used to escape itself"
   ]
  },
  {
   "cell_type": "raw",
   "id": "d2cc5f42",
   "metadata": {},
   "source": [
    "Q.7. Give an example of the following conditions:\n",
    "(i) Homogeneous list\n",
    "(ii) Heterogeneous set\n",
    "(iii) Homogeneous tuple"
   ]
  },
  {
   "cell_type": "raw",
   "id": "c1233dd5",
   "metadata": {},
   "source": [
    "(i) Homogeneous list :Homogeneous means that it only contains a single type of data. A heterogeneous structure on the other hand, involves different file types being concatenated in the list. A Python list's versatility makes it an optimal alternative to an array."
   ]
  },
  {
   "cell_type": "code",
   "execution_count": 32,
   "id": "81ce059e",
   "metadata": {},
   "outputs": [],
   "source": [
    "listt=[\"hai\",\"hello\",\"rain\"]"
   ]
  },
  {
   "cell_type": "raw",
   "id": "f47c44d4",
   "metadata": {},
   "source": [
    "(ii) Heterogeneous set : A set can be heterogeneous can have different types of data types. Set doesn't allow duplicate items"
   ]
  },
  {
   "cell_type": "code",
   "execution_count": 33,
   "id": "4ad61bf5",
   "metadata": {},
   "outputs": [],
   "source": [
    "sett={15,\"sunny\",15,289.36,False}"
   ]
  },
  {
   "cell_type": "code",
   "execution_count": 34,
   "id": "9aa6075e",
   "metadata": {},
   "outputs": [
    {
     "data": {
      "text/plain": [
       "{15, 289.36, False, 'sunny'}"
      ]
     },
     "execution_count": 34,
     "metadata": {},
     "output_type": "execute_result"
    }
   ],
   "source": [
    "sett"
   ]
  },
  {
   "cell_type": "raw",
   "id": "269cd113",
   "metadata": {},
   "source": [
    "(iii) Homogeneous tuple"
   ]
  },
  {
   "cell_type": "code",
   "execution_count": 35,
   "id": "1a0b5aaa",
   "metadata": {},
   "outputs": [],
   "source": [
    "tuplee=(15,7,8,69,2544,36)"
   ]
  },
  {
   "cell_type": "raw",
   "id": "f901f0ec",
   "metadata": {},
   "source": [
    "Q.8. Explain the mutable and immutable data types with proper explanation & examples."
   ]
  },
  {
   "cell_type": "raw",
   "id": "7a6a10ca",
   "metadata": {},
   "source": [
    "Immutable, which means their elements cannot be changed (no addition, modification, or deletion) after they are created.Tuples,strings,integers,float are immutable and remaining datatypes are mutable"
   ]
  },
  {
   "cell_type": "code",
   "execution_count": 36,
   "id": "0d5c2841",
   "metadata": {},
   "outputs": [],
   "source": [
    "a=\"hello\""
   ]
  },
  {
   "cell_type": "code",
   "execution_count": 38,
   "id": "ca0e0fb1",
   "metadata": {},
   "outputs": [
    {
     "ename": "NameError",
     "evalue": "name 'jh' is not defined",
     "output_type": "error",
     "traceback": [
      "\u001b[1;31m---------------------------------------------------------------------------\u001b[0m",
      "\u001b[1;31mNameError\u001b[0m                                 Traceback (most recent call last)",
      "Cell \u001b[1;32mIn[38], line 1\u001b[0m\n\u001b[1;32m----> 1\u001b[0m a[\u001b[38;5;241m0\u001b[39m]\u001b[38;5;241m=\u001b[39mjh\n",
      "\u001b[1;31mNameError\u001b[0m: name 'jh' is not defined"
     ]
    }
   ],
   "source": [
    "a[0]=jh"
   ]
  },
  {
   "cell_type": "raw",
   "id": "6fccf171",
   "metadata": {},
   "source": [
    "A set is an unordered collection of items where every element is unique.As unorderd collection it has no indexing ,so it donot do indexing related operations"
   ]
  },
  {
   "cell_type": "code",
   "execution_count": 39,
   "id": "ac77f9b6",
   "metadata": {},
   "outputs": [],
   "source": [
    "s={12,\"hg\"}"
   ]
  },
  {
   "cell_type": "code",
   "execution_count": 40,
   "id": "5a8ffb91",
   "metadata": {},
   "outputs": [
    {
     "ename": "TypeError",
     "evalue": "'set' object does not support item assignment",
     "output_type": "error",
     "traceback": [
      "\u001b[1;31m---------------------------------------------------------------------------\u001b[0m",
      "\u001b[1;31mTypeError\u001b[0m                                 Traceback (most recent call last)",
      "Cell \u001b[1;32mIn[40], line 1\u001b[0m\n\u001b[1;32m----> 1\u001b[0m s[\u001b[38;5;241m0\u001b[39m]\u001b[38;5;241m=\u001b[39m\u001b[38;5;124m\"\u001b[39m\u001b[38;5;124mhai\u001b[39m\u001b[38;5;124m\"\u001b[39m\n",
      "\u001b[1;31mTypeError\u001b[0m: 'set' object does not support item assignment"
     ]
    }
   ],
   "source": [
    "s[0]=\"hai\""
   ]
  },
  {
   "cell_type": "code",
   "execution_count": 41,
   "id": "a2af7448",
   "metadata": {},
   "outputs": [
    {
     "ename": "TypeError",
     "evalue": "'set' object is not subscriptable",
     "output_type": "error",
     "traceback": [
      "\u001b[1;31m---------------------------------------------------------------------------\u001b[0m",
      "\u001b[1;31mTypeError\u001b[0m                                 Traceback (most recent call last)",
      "Cell \u001b[1;32mIn[41], line 1\u001b[0m\n\u001b[1;32m----> 1\u001b[0m s[\u001b[38;5;241m0\u001b[39m]\n",
      "\u001b[1;31mTypeError\u001b[0m: 'set' object is not subscriptable"
     ]
    }
   ],
   "source": [
    "s[0]"
   ]
  },
  {
   "cell_type": "code",
   "execution_count": 42,
   "id": "83583bc0",
   "metadata": {},
   "outputs": [],
   "source": [
    "listt=[15,78,\"rain\",\"winter\"]"
   ]
  },
  {
   "cell_type": "code",
   "execution_count": 45,
   "id": "7fe04d97",
   "metadata": {},
   "outputs": [],
   "source": [
    "listt[2]=8"
   ]
  },
  {
   "cell_type": "code",
   "execution_count": 46,
   "id": "5dbd57d9",
   "metadata": {},
   "outputs": [
    {
     "data": {
      "text/plain": [
       "[15, 78, 8, 'winter']"
      ]
     },
     "execution_count": 46,
     "metadata": {},
     "output_type": "execute_result"
    }
   ],
   "source": [
    "listt"
   ]
  },
  {
   "cell_type": "raw",
   "id": "7ded11e4",
   "metadata": {},
   "source": [
    "Q.9. Write a code to create the given structure using only for loop.\n",
    "    *\n",
    "   ***\n",
    "  *****\n",
    " *******\n",
    "*********"
   ]
  },
  {
   "cell_type": "code",
   "execution_count": 79,
   "id": "6a1aa76f",
   "metadata": {},
   "outputs": [
    {
     "name": "stdout",
     "output_type": "stream",
     "text": [
      "         *\n",
      "       * * *\n",
      "     * * * * *\n",
      "   * * * * * * *\n",
      " * * * * * * * * *\n"
     ]
    }
   ],
   "source": [
    "n=5\n",
    "for i in range(n):\n",
    "    print(\"  \"*(n-i-1),end=\"\")\n",
    "    for j in range(2*i+1):\n",
    "        print(\" *\",end=\"\")\n",
    "    print()\n"
   ]
  },
  {
   "cell_type": "raw",
   "id": "8ea7c323",
   "metadata": {},
   "source": [
    "Q.10. Write a code to create the given structure using while loop.\n",
    "|||||||||\n",
    " |||||||\n",
    "  |||||\n",
    "   |||\n",
    "    |"
   ]
  },
  {
   "cell_type": "code",
   "execution_count": 102,
   "id": "2b028bdb",
   "metadata": {},
   "outputs": [
    {
     "name": "stdout",
     "output_type": "stream",
     "text": [
      " | | | | | | | | | \n",
      "   | | | | | | | \n",
      "     | | | | | \n",
      "       | | | \n",
      "         | \n"
     ]
    }
   ],
   "source": [
    "n=5\n",
    "for i in range(n):\n",
    "    print(\" \"*(2*i+1),end=\"\")\n",
    "    for j in range(2*n-2*i-1):\n",
    "        print(\"|\",end=\" \")\n",
    "    print()\n"
   ]
  },
  {
   "cell_type": "code",
   "execution_count": null,
   "id": "712904ea",
   "metadata": {},
   "outputs": [],
   "source": []
  }
 ],
 "metadata": {
  "kernelspec": {
   "display_name": "Python 3 (ipykernel)",
   "language": "python",
   "name": "python3"
  },
  "language_info": {
   "codemirror_mode": {
    "name": "ipython",
    "version": 3
   },
   "file_extension": ".py",
   "mimetype": "text/x-python",
   "name": "python",
   "nbconvert_exporter": "python",
   "pygments_lexer": "ipython3",
   "version": "3.11.4"
  }
 },
 "nbformat": 4,
 "nbformat_minor": 5
}
