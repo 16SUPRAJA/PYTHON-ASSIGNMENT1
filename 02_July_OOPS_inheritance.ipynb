{
 "cells": [
  {
   "cell_type": "markdown",
   "id": "d5013c2b",
   "metadata": {},
   "source": [
    "# 1. Explain what inheritance is in object-oriented programming and why it is used."
   ]
  },
  {
   "cell_type": "markdown",
   "id": "0c7c4cd0",
   "metadata": {},
   "source": [
    "Inheritance is a mechanism that allows a class to inherit properties and behaviors from another class.It is used for code reusability. a class that inherits from another class shares all the attributes and methods of the referenced class. An inherited class is called a subclass or child class of the class it inherits from.\n",
    "\n",
    "It inherts from keyword super() function that will make the child class inherit all the methods and properties from its parent.The child's __init__() function overrides the inheritance of the parent's __init__() function.\n",
    "\n",
    "To keep the inheritance of the parent's __init__() function, add a call to the parent's __init__() function.There are many ways to achieve inheritance single, multiple, Hierarchical, multilevel, hybrid."
   ]
  },
  {
   "cell_type": "markdown",
   "id": "aa3816a7",
   "metadata": {},
   "source": [
    "# 2. Discuss the concept of single inheritance and multiple inheritance, highlighting their differences and advantages."
   ]
  },
  {
   "cell_type": "markdown",
   "id": "2c84eae8",
   "metadata": {},
   "source": [
    "Inheritance is a method which can derive or construct new classes from the existing class. \n",
    "In single inheritance, we do have only one base class, which is inherited by only one derived class. \n",
    "In multiple inheritance we have more than two base class which are combinely inherited by only one derived class.\n",
    "\n",
    "Constructs\tof single and multile inheritance respectively are Inheritance tree\tInheritance Directed Acyclic Graph (DAG).\n",
    "\n",
    "In single inheritance, a subclass inherits from a single superclass whereas, in multiple inheritance, a subclass inherits from multiple superclasses.\n",
    "\n",
    "Multiple inheritance is more complex than single multiple inheritance.\n",
    "\n",
    "Visibility in both is Public, Private, Protected.\n",
    "\n",
    "Run time for single inheritance requires small amount of run time over head (Due to less overhead) and for multiple inheritance requires additional runtime overhead as compared to single inheritance."
   ]
  },
  {
   "cell_type": "markdown",
   "id": "0c8cc543",
   "metadata": {},
   "source": [
    "Multiple inheritance is quite confusing as here a single derived class inherit two or more base class. If the base classes have an attribute or function with the same name then for a derived class, it becomes difficult to identify which base class’s attribute or function it has to derive.\n",
    "\n",
    "Single inheritance is more towards specialization. Conversely, multiple inheritance is more towards generalization.\n",
    "To overcome the ambiguity problem, we can use scope resolution operator (::) with the member function name to eliminate ambiguity between two base classes."
   ]
  },
  {
   "cell_type": "markdown",
   "id": "703dfdd2",
   "metadata": {},
   "source": [
    "# 3. Explain the terms \"base class\" and \"derived class\" in the context of inheritance."
   ]
  },
  {
   "cell_type": "markdown",
   "id": "2c785528",
   "metadata": {},
   "source": [
    "Inheritance allows us to define a class that inherits all the methods and properties from another class.\n",
    "\n",
    "Parent class is the class being inherited from, also called base class.\n",
    "\n",
    "Child class is the class that inherits from another class, also called derived class.\n",
    "\n"
   ]
  },
  {
   "cell_type": "markdown",
   "id": "bd8481cd",
   "metadata": {},
   "source": [
    "# 4. What is the significance of the \"protected\" access modifier in inheritance? How does it differ from \"private\" and \"public\" modifiers?"
   ]
  },
  {
   "cell_type": "markdown",
   "id": "2d18ff0b",
   "metadata": {},
   "source": [
    "The members of the class that are declared public are easily accessable from any part of the program. All data members and member functions are public by default.\n",
    "\n",
    "protected - the property or method can be accessed within the class and by classes derived from that class.\n",
    "\n",
    "private - the property or method can ONLY be accessed within the class"
   ]
  },
  {
   "cell_type": "markdown",
   "id": "7f6bfe93",
   "metadata": {},
   "source": [
    "This access modifier is used to access the methods or data members of a class within the same package as well as outside the package but only through inheritance.\n",
    "\n",
    "The protected access modifier has more accessibility than private and defaults access modifiers. But it has less visibility than the public access modifier."
   ]
  },
  {
   "cell_type": "code",
   "execution_count": 9,
   "id": "18514f0c",
   "metadata": {},
   "outputs": [],
   "source": [
    "class person:\n",
    "    def __init__(self,name,lastname):\n",
    "        self.name=name  # public self.name, name is public\n",
    "        self.lastname=lastname\n",
    "        \n",
    "    def display(self):\n",
    "        print(f\"the name is {self.name} and the last name is {self.lastname}\")"
   ]
  },
  {
   "cell_type": "code",
   "execution_count": 10,
   "id": "df7f67be",
   "metadata": {},
   "outputs": [],
   "source": [
    "person1=person(\"krish\",\"naik\")"
   ]
  },
  {
   "cell_type": "code",
   "execution_count": 11,
   "id": "f139c55f",
   "metadata": {},
   "outputs": [
    {
     "data": {
      "text/plain": [
       "['__class__',\n",
       " '__delattr__',\n",
       " '__dict__',\n",
       " '__dir__',\n",
       " '__doc__',\n",
       " '__eq__',\n",
       " '__format__',\n",
       " '__ge__',\n",
       " '__getattribute__',\n",
       " '__getstate__',\n",
       " '__gt__',\n",
       " '__hash__',\n",
       " '__init__',\n",
       " '__init_subclass__',\n",
       " '__le__',\n",
       " '__lt__',\n",
       " '__module__',\n",
       " '__ne__',\n",
       " '__new__',\n",
       " '__reduce__',\n",
       " '__reduce_ex__',\n",
       " '__repr__',\n",
       " '__setattr__',\n",
       " '__sizeof__',\n",
       " '__str__',\n",
       " '__subclasshook__',\n",
       " '__weakref__',\n",
       " 'display',\n",
       " 'lastname',\n",
       " 'name']"
      ]
     },
     "execution_count": 11,
     "metadata": {},
     "output_type": "execute_result"
    }
   ],
   "source": [
    "dir(person1)"
   ]
  },
  {
   "cell_type": "code",
   "execution_count": 14,
   "id": "9a01352a",
   "metadata": {},
   "outputs": [],
   "source": [
    "class Student:\n",
    "    #protected variables\n",
    "    def __init__(self,name,rollno):\n",
    "        self._name=name\n",
    "        self._rollno=rollno\n",
    "        \n",
    "    def _display(self):\n",
    "        print(f\"the name is {self._name} and the rollno is {self._rollno}\")"
   ]
  },
  {
   "cell_type": "code",
   "execution_count": 15,
   "id": "b296806d",
   "metadata": {},
   "outputs": [],
   "source": [
    "student1=Student(\"krish\",1257885)"
   ]
  },
  {
   "cell_type": "code",
   "execution_count": 16,
   "id": "ecaf0112",
   "metadata": {},
   "outputs": [
    {
     "data": {
      "text/plain": [
       "['__class__',\n",
       " '__delattr__',\n",
       " '__dict__',\n",
       " '__dir__',\n",
       " '__doc__',\n",
       " '__eq__',\n",
       " '__format__',\n",
       " '__ge__',\n",
       " '__getattribute__',\n",
       " '__getstate__',\n",
       " '__gt__',\n",
       " '__hash__',\n",
       " '__init__',\n",
       " '__init_subclass__',\n",
       " '__le__',\n",
       " '__lt__',\n",
       " '__module__',\n",
       " '__ne__',\n",
       " '__new__',\n",
       " '__reduce__',\n",
       " '__reduce_ex__',\n",
       " '__repr__',\n",
       " '__setattr__',\n",
       " '__sizeof__',\n",
       " '__str__',\n",
       " '__subclasshook__',\n",
       " '__weakref__',\n",
       " '_display',\n",
       " '_name',\n",
       " '_rollno']"
      ]
     },
     "execution_count": 16,
     "metadata": {},
     "output_type": "execute_result"
    }
   ],
   "source": [
    "dir(student1)"
   ]
  },
  {
   "cell_type": "code",
   "execution_count": 21,
   "id": "bd1bd939",
   "metadata": {},
   "outputs": [],
   "source": [
    "class Student:\n",
    "    #protected variables\n",
    "    def __init__(self,name,rollno):\n",
    "        self.__name=name\n",
    "        self.__rollno=rollno\n",
    "        \n",
    "    def __display(self):\n",
    "        print(f\"the name is {self.__name} and the rollno is {self.__rollno}\")\n",
    "        \n",
    "    def display(self):\n",
    "        self.__display()"
   ]
  },
  {
   "cell_type": "code",
   "execution_count": 22,
   "id": "255b7a92",
   "metadata": {},
   "outputs": [],
   "source": [
    "student1=Student(\"krish\",147565)"
   ]
  },
  {
   "cell_type": "code",
   "execution_count": 23,
   "id": "8ca1b30b",
   "metadata": {},
   "outputs": [
    {
     "data": {
      "text/plain": [
       "['_Student__display',\n",
       " '_Student__name',\n",
       " '_Student__rollno',\n",
       " '__class__',\n",
       " '__delattr__',\n",
       " '__dict__',\n",
       " '__dir__',\n",
       " '__doc__',\n",
       " '__eq__',\n",
       " '__format__',\n",
       " '__ge__',\n",
       " '__getattribute__',\n",
       " '__getstate__',\n",
       " '__gt__',\n",
       " '__hash__',\n",
       " '__init__',\n",
       " '__init_subclass__',\n",
       " '__le__',\n",
       " '__lt__',\n",
       " '__module__',\n",
       " '__ne__',\n",
       " '__new__',\n",
       " '__reduce__',\n",
       " '__reduce_ex__',\n",
       " '__repr__',\n",
       " '__setattr__',\n",
       " '__sizeof__',\n",
       " '__str__',\n",
       " '__subclasshook__',\n",
       " '__weakref__',\n",
       " 'display']"
      ]
     },
     "execution_count": 23,
     "metadata": {},
     "output_type": "execute_result"
    }
   ],
   "source": [
    "dir(student1)"
   ]
  },
  {
   "cell_type": "code",
   "execution_count": 24,
   "id": "2879fbfb",
   "metadata": {},
   "outputs": [
    {
     "name": "stdout",
     "output_type": "stream",
     "text": [
      "the name is krish and the rollno is 147565\n"
     ]
    }
   ],
   "source": [
    "student1.display()"
   ]
  },
  {
   "cell_type": "code",
   "execution_count": 25,
   "id": "2b73262a",
   "metadata": {},
   "outputs": [
    {
     "ename": "AttributeError",
     "evalue": "'Student' object has no attribute '__name'",
     "output_type": "error",
     "traceback": [
      "\u001b[1;31m---------------------------------------------------------------------------\u001b[0m",
      "\u001b[1;31mAttributeError\u001b[0m                            Traceback (most recent call last)",
      "Cell \u001b[1;32mIn[25], line 1\u001b[0m\n\u001b[1;32m----> 1\u001b[0m student1\u001b[38;5;241m.\u001b[39m__name\n",
      "\u001b[1;31mAttributeError\u001b[0m: 'Student' object has no attribute '__name'"
     ]
    }
   ],
   "source": [
    "student1.__name"
   ]
  },
  {
   "cell_type": "code",
   "execution_count": 26,
   "id": "a15a5d27",
   "metadata": {},
   "outputs": [
    {
     "data": {
      "text/plain": [
       "'krish'"
      ]
     },
     "execution_count": 26,
     "metadata": {},
     "output_type": "execute_result"
    }
   ],
   "source": [
    "student1._Student__name"
   ]
  },
  {
   "cell_type": "markdown",
   "id": "82aba258",
   "metadata": {},
   "source": [
    "# 5. What is the purpose of the \"super\" keyword in inheritance? Provide an example."
   ]
  },
  {
   "cell_type": "markdown",
   "id": "791c06f8",
   "metadata": {},
   "source": [
    "super() function that will make the child class inherit all the methods and properties from its parent."
   ]
  },
  {
   "cell_type": "code",
   "execution_count": 2,
   "id": "bed8bd1d",
   "metadata": {},
   "outputs": [],
   "source": [
    "class person:\n",
    "    def __init__(self,name):\n",
    "        self.name=name\n",
    "        \n",
    "    def display_info(self):  # to execss the the attributes present inside ther class\n",
    "        print(f\"name is : {self.name}\")"
   ]
  },
  {
   "cell_type": "code",
   "execution_count": 3,
   "id": "007c877d",
   "metadata": {},
   "outputs": [],
   "source": [
    "class student(person):\n",
    "    def __init__(self,name,grade):\n",
    "        super().__init__(name)\n",
    "        self.grade=grade\n",
    "        \n",
    "    def display_info(self):\n",
    "        super().display_info()\n",
    "        print(f\"the grade is : {self.grade}\")"
   ]
  },
  {
   "cell_type": "code",
   "execution_count": 4,
   "id": "a348c726",
   "metadata": {},
   "outputs": [],
   "source": [
    "person1=person(\"krishna\")"
   ]
  },
  {
   "cell_type": "code",
   "execution_count": 5,
   "id": "fdadfe24",
   "metadata": {},
   "outputs": [
    {
     "name": "stdout",
     "output_type": "stream",
     "text": [
      "name is : krishna\n"
     ]
    }
   ],
   "source": [
    "person1.display_info()"
   ]
  },
  {
   "cell_type": "code",
   "execution_count": 6,
   "id": "3e882b67",
   "metadata": {},
   "outputs": [],
   "source": [
    "student1=student(\"krish\",\"A\")"
   ]
  },
  {
   "cell_type": "code",
   "execution_count": 7,
   "id": "2bf836c2",
   "metadata": {},
   "outputs": [
    {
     "name": "stdout",
     "output_type": "stream",
     "text": [
      "name is : krish\n",
      "the grade is : A\n"
     ]
    }
   ],
   "source": [
    "student1.display_info()"
   ]
  },
  {
   "cell_type": "markdown",
   "id": "e382d77e",
   "metadata": {},
   "source": [
    "# 6. Create a base class called \"Vehicle\" with attributes like \"make\", \"model\", and \"year\". Then, create a derived class called \"Car\" that inherits from \"Vehicle\" and adds an attribute called \"fuel_type\". Implement appropriate methods in both classes."
   ]
  },
  {
   "cell_type": "code",
   "execution_count": 32,
   "id": "346d1f34",
   "metadata": {},
   "outputs": [],
   "source": [
    "class Vehicle:\n",
    "    def __init__(self,make,model,year):\n",
    "        self.make=make\n",
    "        self.model=model\n",
    "        self.year=year\n",
    "        \n",
    "    def display(self):\n",
    "        return f\"the vehicle manufactured in the {self.year} and model is {self.model} by {self.make}\"\n",
    "        \n",
    "class Car(Vehicle):\n",
    "    def __init__(self,make,model,year,fuel_type):\n",
    "        super().__init__(make,model,year)\n",
    "        self.fuel_type=fuel_type\n",
    "    \n",
    "    def start_engine(self):\n",
    "        print(f\"engine has started of model {self.model} ({self.year})\")\n",
    "        \n",
    "    def stop_engine(self):\n",
    "        print(f\"engine has stopped of model {self.model} ({self.year})\")\n",
    "        \n",
    "    def driving(self):        \n",
    "        print(\"enter only yes or no\")\n",
    "        n=input(\"are on phonecall ? \")\n",
    "        if n==\"no\":\n",
    "            print(\"you are allowed to drive\")\n",
    "                \n",
    "        else:\n",
    "            print(\"not allowed to attend phone while driving\")\n",
    "                \n",
    "\n",
    "        "
   ]
  },
  {
   "cell_type": "code",
   "execution_count": 34,
   "id": "d663bffd",
   "metadata": {},
   "outputs": [],
   "source": [
    "tata=Car(\"xxxx\",\"yyyyy\",\"zzzzz\",\"disel\")"
   ]
  },
  {
   "cell_type": "code",
   "execution_count": 35,
   "id": "e1571637",
   "metadata": {},
   "outputs": [
    {
     "name": "stdout",
     "output_type": "stream",
     "text": [
      "enter only yes or no\n",
      "are on phonecall ? no\n",
      "you are allowed to drive\n"
     ]
    }
   ],
   "source": [
    "tata.driving()"
   ]
  },
  {
   "cell_type": "code",
   "execution_count": 36,
   "id": "917f000a",
   "metadata": {},
   "outputs": [
    {
     "data": {
      "text/plain": [
       "'the vehicle manufactured in the zzzzz and model is yyyyy by xxxx'"
      ]
     },
     "execution_count": 36,
     "metadata": {},
     "output_type": "execute_result"
    }
   ],
   "source": [
    "tata.display()"
   ]
  },
  {
   "cell_type": "code",
   "execution_count": 38,
   "id": "a2ac54c3",
   "metadata": {},
   "outputs": [
    {
     "data": {
      "text/plain": [
       "'disel'"
      ]
     },
     "execution_count": 38,
     "metadata": {},
     "output_type": "execute_result"
    }
   ],
   "source": [
    "tata.fuel_type"
   ]
  },
  {
   "cell_type": "markdown",
   "id": "d8b8152a",
   "metadata": {},
   "source": [
    "# 7. Create a base class called \"Employee\" with attributes like \"name\" and \"salary.\"Derive two classes, \"Manager\" and \"Developer,\" from \"Employee.\" Add an additional attribute called \"department\" for the \"Manager\" class and \"programming_language\" for the \"Developer\" class."
   ]
  },
  {
   "cell_type": "code",
   "execution_count": 16,
   "id": "ce4988a7",
   "metadata": {},
   "outputs": [],
   "source": [
    "class Employee:\n",
    "    def __init__(self,name,salary):\n",
    "        self.name=name\n",
    "        self.salary=salary\n",
    "        \n",
    "    def display(self):\n",
    "        print(f\"person name is {self.name} and his salary is {self.salary}\")\n",
    "    \n",
    "class Manager(Employee):\n",
    "    def __init__(self,name,salary,department):\n",
    "        super().__init__(name,salary)\n",
    "        self.department=department\n",
    "        \n",
    "    def show(self):\n",
    "        super().display()\n",
    "        return f\"{self.name} works in {self.department}\"\n",
    "        \n",
    "class Developer(Employee):\n",
    "    def __init__(self,name,salary,programming_language):\n",
    "        super().__init__(name,salary)\n",
    "        self.programming_language=programming_language\n",
    "        \n",
    "    \n",
    "    def display(self):\n",
    "        super().display()\n",
    "        return f\"{self.name} works on {self.programming_language}\""
   ]
  },
  {
   "cell_type": "code",
   "execution_count": 17,
   "id": "f5ee9b51",
   "metadata": {},
   "outputs": [],
   "source": [
    "manager=Manager(\"ravi\",\"50000\",\"sales\")"
   ]
  },
  {
   "cell_type": "code",
   "execution_count": 18,
   "id": "5a240906",
   "metadata": {},
   "outputs": [],
   "source": [
    "dev=Developer(\"Devi\",1000000,\"python\")"
   ]
  },
  {
   "cell_type": "code",
   "execution_count": 19,
   "id": "dd3ab0bf",
   "metadata": {},
   "outputs": [
    {
     "name": "stdout",
     "output_type": "stream",
     "text": [
      "person name is ravi and his salary is 50000\n"
     ]
    }
   ],
   "source": [
    "manager.display()"
   ]
  },
  {
   "cell_type": "code",
   "execution_count": 20,
   "id": "29f5b16b",
   "metadata": {},
   "outputs": [
    {
     "name": "stdout",
     "output_type": "stream",
     "text": [
      "person name is ravi and his salary is 50000\n"
     ]
    },
    {
     "data": {
      "text/plain": [
       "'ravi works in sales'"
      ]
     },
     "execution_count": 20,
     "metadata": {},
     "output_type": "execute_result"
    }
   ],
   "source": [
    "manager.show()"
   ]
  },
  {
   "cell_type": "code",
   "execution_count": 13,
   "id": "13459515",
   "metadata": {},
   "outputs": [
    {
     "name": "stdout",
     "output_type": "stream",
     "text": [
      "person name is Devi and his salary is 1000000\n"
     ]
    },
    {
     "data": {
      "text/plain": [
       "'Devi works on python'"
      ]
     },
     "execution_count": 13,
     "metadata": {},
     "output_type": "execute_result"
    }
   ],
   "source": [
    "dev.display()"
   ]
  },
  {
   "cell_type": "markdown",
   "id": "e5e0c9cf",
   "metadata": {},
   "source": [
    "# 8. Design a base class called \"Shape\" with attributes like \"colour\" and \"border_width.\"Create derived classes, \"Rectangle\" and \"Circle,\" that inherit from \"Shape\" and add specific attributes like \"length\" and \"width\" for the \"Rectangle\" class and \"radius\" for the \"Circle\" class."
   ]
  },
  {
   "cell_type": "code",
   "execution_count": 56,
   "id": "043d3ca2",
   "metadata": {},
   "outputs": [],
   "source": [
    "class Shape:\n",
    "    def __init__(self,colour,border_width):\n",
    "        self.colour=colour\n",
    "        self.border_width=border_width\n",
    "        \n",
    "class Rectangle(Shape):\n",
    "    def __init__(self,colour,border_width,length,width):\n",
    "        super().__init__(colour,border_width)\n",
    "        self.length=length\n",
    "        self.width=width\n",
    "        \n",
    "    def area(self):\n",
    "        a=2*self.length*self.width\n",
    "        return a\n",
    "    def perimeter(self):\n",
    "        p=2*(width+length)\n",
    "        return \n",
    "    def display(self):\n",
    "        return f\"rectangle is of colour {self.colour} and border width {self.border_width}\"\n",
    "        \n",
    "        \n",
    "class Circle(Shape):\n",
    "    def __init__(self,colour,border_width,radius):\n",
    "        super().__init__(colour,border_width)\n",
    "        self.radius=radius\n",
    "        \n",
    "    def area(self):\n",
    "        a=3.14*self.radius*self.radius\n",
    "        return f\"circle area is {a} \"\n",
    "    \n",
    "    def circumference(self):\n",
    "        c=2*3.14*self.radius\n",
    "        return f\"circumference is {c}\"\n",
    "    \n",
    "    def display(self):\n",
    "        return f\"circle of colour {self.colour}, border width {self.border_width} \""
   ]
  },
  {
   "cell_type": "code",
   "execution_count": 57,
   "id": "f1296571",
   "metadata": {},
   "outputs": [],
   "source": [
    "r=Rectangle(\"red\",2,4,6)"
   ]
  },
  {
   "cell_type": "code",
   "execution_count": 58,
   "id": "d646a969",
   "metadata": {},
   "outputs": [
    {
     "data": {
      "text/plain": [
       "'rectangle is of colour red and border width 2'"
      ]
     },
     "execution_count": 58,
     "metadata": {},
     "output_type": "execute_result"
    }
   ],
   "source": [
    "r.display()"
   ]
  },
  {
   "cell_type": "code",
   "execution_count": 59,
   "id": "ac8d0ff6",
   "metadata": {},
   "outputs": [
    {
     "data": {
      "text/plain": [
       "48"
      ]
     },
     "execution_count": 59,
     "metadata": {},
     "output_type": "execute_result"
    }
   ],
   "source": [
    "r.area()"
   ]
  },
  {
   "cell_type": "code",
   "execution_count": 60,
   "id": "6b48c89f",
   "metadata": {},
   "outputs": [],
   "source": [
    "c=Circle(\"yellow\",3,4)"
   ]
  },
  {
   "cell_type": "code",
   "execution_count": 61,
   "id": "c516c626",
   "metadata": {},
   "outputs": [
    {
     "data": {
      "text/plain": [
       "'circle area is 50.24 '"
      ]
     },
     "execution_count": 61,
     "metadata": {},
     "output_type": "execute_result"
    }
   ],
   "source": [
    "c.area()"
   ]
  },
  {
   "cell_type": "code",
   "execution_count": 62,
   "id": "bf818166",
   "metadata": {},
   "outputs": [
    {
     "data": {
      "text/plain": [
       "'circle of colour yellow, border width 3 '"
      ]
     },
     "execution_count": 62,
     "metadata": {},
     "output_type": "execute_result"
    }
   ],
   "source": [
    "c.display()"
   ]
  },
  {
   "cell_type": "markdown",
   "id": "67cee8c0",
   "metadata": {},
   "source": [
    "# 9. Create a base class called \"Device\" with attributes like \"brand\" and \"model.\" Derive two classes, \"Phone\" and \"Tablet,\" from \"Device.\" Add specific attributes like \"screen_size\" for the \"Phone\" class and \"battery_capacity\" for the \"Tablet\" class."
   ]
  },
  {
   "cell_type": "code",
   "execution_count": 65,
   "id": "619fdff1",
   "metadata": {},
   "outputs": [],
   "source": [
    "class Device:\n",
    "    def __init__(self,brand,model):\n",
    "        self.brand=brand\n",
    "        self.model=model\n",
    "        \n",
    "class Phone(Device):\n",
    "    def __init__(self,brand,model,screen_size):\n",
    "        super().__init__(brand,model)\n",
    "        self.screen_size=screen_size\n",
    "        \n",
    "    def display(self):\n",
    "        return f\"phone is of brand {self.brand} and model {self.model}, its screen size is {self.screen_size} \"\n",
    "        \n",
    "class Tablet(Device):\n",
    "    def __init__(self,brand,model,battery_capacity):\n",
    "        super().__init__(brand,model)\n",
    "        self.battery_capacity=battery_capacity  \n",
    "        \n",
    "    def show (self):\n",
    "        return f\"tablet of brand {self.brand} and model {self.model}, its battery capacity is {self.battery_capacity}\""
   ]
  },
  {
   "cell_type": "code",
   "execution_count": 66,
   "id": "c7c9251a",
   "metadata": {},
   "outputs": [],
   "source": [
    "p=Phone(\"samsung\",\"J7 Prime\",\"6.5 inch\")"
   ]
  },
  {
   "cell_type": "code",
   "execution_count": 67,
   "id": "a29a6a40",
   "metadata": {},
   "outputs": [],
   "source": [
    "t=Tablet(\"lenovo\",\"M9\",\"5000mAh\")"
   ]
  },
  {
   "cell_type": "code",
   "execution_count": 68,
   "id": "e90a9d8d",
   "metadata": {},
   "outputs": [
    {
     "data": {
      "text/plain": [
       "'phone is of brand samsung and model J7 Prime, its screen size is 6.5 inch '"
      ]
     },
     "execution_count": 68,
     "metadata": {},
     "output_type": "execute_result"
    }
   ],
   "source": [
    "p.display()"
   ]
  },
  {
   "cell_type": "code",
   "execution_count": 69,
   "id": "13f9799a",
   "metadata": {},
   "outputs": [
    {
     "data": {
      "text/plain": [
       "'tablet of brand lenovo and model M9, its battery capacity is 5000mAh'"
      ]
     },
     "execution_count": 69,
     "metadata": {},
     "output_type": "execute_result"
    }
   ],
   "source": [
    "t.show()"
   ]
  },
  {
   "cell_type": "markdown",
   "id": "5b544337",
   "metadata": {},
   "source": [
    "# 10. Create a base class called \"BankAccount\" with attributes like \"account_number\" and \"balance.\" Derive two classes, \"SavingsAccount\" and \"CheckingAccount,\" from \"BankAccount.\" Add specific methods like \"calculate_interest\" for the \"SavingsAccount\" class and \"deduct_fees\" for the \"CheckingAccount\" class."
   ]
  },
  {
   "cell_type": "code",
   "execution_count": 20,
   "id": "3339369c",
   "metadata": {},
   "outputs": [],
   "source": [
    "class BankAccount:\n",
    "    def __init__(self,account_number,balance=0):\n",
    "        self.number=account_number\n",
    "        self.balance=balance\n",
    "        \n",
    "class SavingsAccount(BankAccount):\n",
    "    \n",
    "    def  __init__(self,account_number,time,balance=0,rate=5):\n",
    "        super().__init__(account_number,balance)\n",
    "        self.time=time\n",
    "        self.rate=rate\n",
    "        \n",
    "    def calculate_interest(self):\n",
    "        I=(self.balance*self.time*self.rate)/100\n",
    "        self.balance=I+self.balance\n",
    "        return f\"the total balance of acc no. is {self.balance} from the interest is {I}\"\n",
    "        \n",
    "        \n",
    "class CheckingAccount(BankAccount):\n",
    "    def  __init__(self,account_number,balance=0):\n",
    "        super().__init__(account_number,balance=0)\n",
    "        \n",
    "    def deduct_fees(self,fee):\n",
    "        balance=balance-fee\n",
    "        return f\"remaining balance is {self.balance}\""
   ]
  },
  {
   "cell_type": "code",
   "execution_count": 21,
   "id": "16322c34",
   "metadata": {},
   "outputs": [],
   "source": [
    "a=SavingsAccount(145627893,2,150,12.5)"
   ]
  },
  {
   "cell_type": "code",
   "execution_count": 22,
   "id": "ddcb6c48",
   "metadata": {},
   "outputs": [
    {
     "data": {
      "text/plain": [
       "'the total balance of acc no. is 187.5 from the interest is 37.5'"
      ]
     },
     "execution_count": 22,
     "metadata": {},
     "output_type": "execute_result"
    }
   ],
   "source": [
    "a.calculate_interest()"
   ]
  },
  {
   "cell_type": "code",
   "execution_count": null,
   "id": "97d8384e",
   "metadata": {},
   "outputs": [],
   "source": []
  }
 ],
 "metadata": {
  "kernelspec": {
   "display_name": "Python 3 (ipykernel)",
   "language": "python",
   "name": "python3"
  },
  "language_info": {
   "codemirror_mode": {
    "name": "ipython",
    "version": 3
   },
   "file_extension": ".py",
   "mimetype": "text/x-python",
   "name": "python",
   "nbconvert_exporter": "python",
   "pygments_lexer": "ipython3",
   "version": "3.11.4"
  }
 },
 "nbformat": 4,
 "nbformat_minor": 5
}
